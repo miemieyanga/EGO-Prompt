{
 "cells": [
  {
   "cell_type": "markdown",
   "metadata": {},
   "source": [
    "# Task Settings"
   ]
  },
  {
   "cell_type": "code",
   "execution_count": 1,
   "metadata": {},
   "outputs": [],
   "source": [
    "import os\n",
    "os.environ['OPENAI_API_KEY']=\"YOUR_API_KEY\"\n",
    "\n",
    "from utils import *\n",
    "from prompts import Prompts, TASK_LABLES, TAGS\n",
    "\n",
    "dataset_name = 'swiss'                      # 'trafficsafe', 'pamdemic'\n",
    "test_model = \"experimental:gpt-4o-mini\"     # Forward Engine\n",
    "eval_model = \"gpt-4o\"                       # Backward Engine\n",
    "iteration = 1\n",
    "date = '0919'\n",
    "total_steps=9                               # 5-11\n",
    "epoch=1                                     # 2, 1\n",
    "batch_size=3                                # 1-3"
   ]
  },
  {
   "cell_type": "markdown",
   "metadata": {},
   "source": [
    "# Initialize"
   ]
  },
  {
   "cell_type": "code",
   "execution_count": 2,
   "metadata": {},
   "outputs": [
    {
     "name": "stdout",
     "output_type": "stream",
     "text": [
      "Train/Val/Test Set Lengths:  168 84 85\n"
     ]
    }
   ],
   "source": [
    "cm_labels = TASK_LABLES[dataset_name]\n",
    "tags = TAGS[dataset_name]\n",
    "CAUSAL_SYSTEM = Prompts[dataset_name]['CAUSAL_SYSTEM']\n",
    "CAUSAL_SYSTEM_CONSTRAINT = Prompts[dataset_name]['CAUSAL_SYSTEM_CONSTRAINT']\n",
    "SYSTEM = Prompts[dataset_name]['SYSTEM']\n",
    "\n",
    "llm_api_eval = tg.get_engine(engine_name=eval_model)\n",
    "llm_api_test = tg.get_engine(engine_name=test_model, cache=False)\n",
    "tg.set_backward_engine(llm_api_eval, override=True)\n",
    "\n",
    "train_set, val_set, test_set_ori, eval_fn = load_task(dataset_name, evaluation_api=llm_api_eval, prompt_col=\"organized_prompt\")\n",
    "train_loader = tg.tasks.DataLoader(train_set, batch_size=batch_size, shuffle=True)\n",
    "col = \"organized_prompt\" if dataset_name == 'swiss' else \"prompt\"\n",
    "train_set.data[col] = train_set.data[col].apply(lambda x: f\"{tags[0]}{x}{tags[1]}\")\n",
    "val_set.data[col] = val_set.data[col].apply(lambda x: f\"{tags[0]}{x}{tags[1]}\")\n",
    "test_set_ori.data[col] = test_set_ori.data[col].apply(lambda x: f\"{tags[0]}{x}{tags[1]}\")\n",
    "print(\"Train/Val/Test Set Lengths: \", len(train_set), len(val_set), len(test_set_ori))"
   ]
  },
  {
   "cell_type": "code",
   "execution_count": 3,
   "metadata": {
    "editable": true,
    "slideshow": {
     "slide_type": ""
    },
    "tags": []
   },
   "outputs": [],
   "source": [
    "import matplotlib.pyplot as plt\n",
    "from copy import deepcopy\n",
    "\n",
    "res = []\n",
    "\n",
    "test_set = deepcopy(test_set_ori)\n",
    "system_prompt, causal_prompt, model, causal_model, optimizer, optimizer_causal = init(SYSTEM, CAUSAL_SYSTEM, llm_api_test, llm_api_eval, CAUSAL_SYSTEM_CONSTRAINT)\n",
    "results = {\"test_f1\": [], \"prompt\": [], \"validation_f1\": [], 'system_prompt':[], 'causal_prompt': []}"
   ]
  },
  {
   "cell_type": "markdown",
   "metadata": {},
   "source": [
    "# Run EGO-Prompt"
   ]
  },
  {
   "cell_type": "code",
   "execution_count": 4,
   "metadata": {},
   "outputs": [],
   "source": [
    "import time\n",
    "import copy\n",
    "import numpy as np\n",
    "from concurrent.futures import ThreadPoolExecutor, as_completed\n",
    "\n",
    "NUM_WORKERS = 1 \n",
    "\n",
    "def run_one_worker(worker_id: int):\n",
    "\n",
    "\n",
    "    local_test_set = copy.deepcopy(test_set)\n",
    "    local_test_set_ori = copy.deepcopy(test_set_ori)\n",
    "    local_val_set = copy.deepcopy(val_set)\n",
    "    local_train_loader = train_loader\n",
    "\n",
    "    val_performance = -float('inf')\n",
    "    test_performance = -float('inf')\n",
    "    final_results = None\n",
    "    all_val_f1s = []\n",
    "    all_test_f1s = []\n",
    "\n",
    "    local_test_set.data[col] = local_test_set_ori.data[col].apply(\n",
    "        lambda x: f\"<!-- {time.time()} (w{worker_id}) -->, {x}\"\n",
    "    )\n",
    "\n",
    "    for cur_iter in range(iteration):\n",
    "        print(f\"[Worker {worker_id}] [Iteration {cur_iter+1}/{iteration}] begin\")\n",
    "\n",
    "        output_json = (\n",
    "            f\"res/{date}_{dataset_name}_{test_model.split('/')[-1].split(':')[-1]}_\"\n",
    "            f\"w{worker_id}_it{cur_iter+1}.json\"\n",
    "        )\n",
    "        initialize_json_file(output_json)\n",
    "\n",
    "        system_prompt, causal_prompt, model, causal_model, optimizer, optimizer_causal = init(\n",
    "            SYSTEM, CAUSAL_SYSTEM, llm_api_test, llm_api_eval, CAUSAL_SYSTEM_CONSTRAINT\n",
    "        )\n",
    "\n",
    "        results, test_res, val_res = init_eval(\n",
    "            local_val_set, local_test_set, eval_fn, model, causal_model,\n",
    "            system_prompt, causal_prompt, cm_labels, iters=ITERS    \n",
    "        )\n",
    "\n",
    "        results = run_training(\n",
    "            local_train_loader, local_val_set, local_test_set, eval_fn,\n",
    "            model, causal_model, system_prompt, causal_prompt,\n",
    "            optimizer, optimizer_causal, results, cm_labels,\n",
    "            output_json=output_json, epoch=epoch, steps=total_steps, iters=ITERS\n",
    "        )\n",
    "\n",
    "        all_val_f1s.append(results['validation_f1'])\n",
    "        all_test_f1s.append(results['test_f1'])\n",
    "\n",
    "        cur_val = results['validation_f1'][-1]\n",
    "        cur_test = results['test_f1'][-1]\n",
    "        if cur_val > val_performance:\n",
    "            val_performance = cur_val\n",
    "            test_performance = cur_test\n",
    "            final_results = results\n",
    "\n",
    "        print(f\"[Worker {worker_id}] [Iteration {cur_iter+1}] \"\n",
    "              f\"val_best={val_performance:.4f}, test_at_best={test_performance:.4f}\")\n",
    "\n",
    "    return {\n",
    "        'best_test_f1': test_performance,\n",
    "        'val_f1s': all_val_f1s,\n",
    "        'test_f1s': all_test_f1s,\n",
    "        'worker_id': worker_id,\n",
    "    }"
   ]
  },
  {
   "cell_type": "markdown",
   "metadata": {},
   "source": [
    "# Running the cell below will incur API usage charges. Refer to our paper for detailed cost"
   ]
  },
  {
   "cell_type": "code",
   "execution_count": 5,
   "metadata": {},
   "outputs": [
    {
     "name": "stdout",
     "output_type": "stream",
     "text": [
      "[Worker 0] [Iteration 1/1] begin[Worker 1] [Iteration 1/1] begin\n",
      "\n",
      "[Worker 2] [Iteration 1/1] begin\n"
     ]
    },
    {
     "name": "stderr",
     "output_type": "stream",
     "text": [
      "Accuracy: 0.1647: 100%|██████████| 85/85 [00:17<00:00,  4.89it/s]\n",
      "Accuracy: 0.2235: 100%|██████████| 85/85 [00:19<00:00,  4.41it/s]\n",
      "Accuracy: 0.2471: 100%|██████████| 85/85 [00:30<00:00,  2.83it/s]\n",
      "Accuracy: 0.2381: 100%|██████████| 84/84 [00:20<00:00,  4.10it/s]\n",
      "Accuracy: 0.1364:  24%|██▍       | 20/84 [00:07<00:07,  8.33it/s]"
     ]
    },
    {
     "name": "stdout",
     "output_type": "stream",
     "text": [
      "SCG_val_f1: 0.3182539682539683, SCG_test_f1:0.20487520070062765\n"
     ]
    },
    {
     "name": "stderr",
     "output_type": "stream",
     "text": [
      "Accuracy: 0.1304:  27%|██▋       | 23/84 [00:07<00:06,  9.95it/s]"
     ]
    },
    {
     "name": "stdout",
     "output_type": "stream",
     "text": [
      "\n",
      "Epoch 0, Step 0\n"
     ]
    },
    {
     "name": "stderr",
     "output_type": "stream",
     "text": [
      "Accuracy: 0.2381: 100%|██████████| 84/84 [00:22<00:00,  3.80it/s]\n"
     ]
    },
    {
     "name": "stdout",
     "output_type": "stream",
     "text": [
      "SCG_val_f1: 0.31224489795918364, SCG_test_f1:0.3009764229578471\n"
     ]
    },
    {
     "name": "stderr",
     "output_type": "stream",
     "text": [
      "0it [00:00, ?it/s]"
     ]
    },
    {
     "name": "stdout",
     "output_type": "stream",
     "text": [
      "\n",
      "Epoch 0, Step 0\n"
     ]
    },
    {
     "name": "stderr",
     "output_type": "stream",
     "text": [
      "Accuracy: 0.1786: 100%|██████████| 84/84 [00:15<00:00,  5.52it/s]\n"
     ]
    },
    {
     "name": "stdout",
     "output_type": "stream",
     "text": [
      "SCG_val_f1: 0.24574175824175828, SCG_test_f1:0.2765328353563648\n"
     ]
    },
    {
     "name": "stderr",
     "output_type": "stream",
     "text": [
      "0it [00:00, ?it/s]"
     ]
    },
    {
     "name": "stdout",
     "output_type": "stream",
     "text": [
      "\n",
      "Epoch 0, Step 0\n"
     ]
    },
    {
     "name": "stderr",
     "output_type": "stream",
     "text": [
      "Accuracy: 0.3690: 100%|██████████| 84/84 [00:16<00:00,  5.21it/s]\n"
     ]
    },
    {
     "name": "stdout",
     "output_type": "stream",
     "text": [
      "[System Validation] F1: 0.3978, Previous F1: 0.2457\n",
      "[System Validation CM]:\n",
      "[[15  5  7]\n",
      " [15 11  2]\n",
      " [ 6  5  5]]\n"
     ]
    },
    {
     "name": "stderr",
     "output_type": "stream",
     "text": [
      "Accuracy: 0.3810: 100%|██████████| 84/84 [00:14<00:00,  5.92it/s]\n"
     ]
    },
    {
     "name": "stdout",
     "output_type": "stream",
     "text": [
      "[Causal Validation] F1: 0.4046, Previous F1: 0.3978\n",
      "[Causal Validation CM]:\n",
      "[[11  6 11]\n",
      " [13 15  3]\n",
      " [ 6  5  6]]\n"
     ]
    },
    {
     "name": "stderr",
     "output_type": "stream",
     "text": [
      "Accuracy: 0.4524: 100%|██████████| 84/84 [00:37<00:00,  2.26it/s]\n"
     ]
    },
    {
     "name": "stdout",
     "output_type": "stream",
     "text": [
      "[System Validation] F1: 0.4528, Previous F1: 0.3183\n",
      "[System Validation CM]:\n",
      "[[18  8  7]\n",
      " [16 15  2]\n",
      " [ 9  3  5]]\n"
     ]
    },
    {
     "name": "stderr",
     "output_type": "stream",
     "text": [
      "Accuracy: 0.3929: 100%|██████████| 84/84 [00:23<00:00,  3.54it/s]\n"
     ]
    },
    {
     "name": "stdout",
     "output_type": "stream",
     "text": [
      "[System Validation] F1: 0.4419, Previous F1: 0.3122\n",
      "[System Validation CM]:\n",
      "[[13  5 10]\n",
      " [ 8 13  3]\n",
      " [ 6  2  7]]\n"
     ]
    },
    {
     "name": "stderr",
     "output_type": "stream",
     "text": [
      "Accuracy: 0.4471: 100%|██████████| 85/85 [00:44<00:00,  1.91it/s]\n",
      "Accuracy: 0.8000:   6%|▌         | 5/84 [00:10<01:35,  1.20s/it]"
     ]
    },
    {
     "name": "stdout",
     "output_type": "stream",
     "text": [
      "[Test Result] F1: 0.4484\n",
      "\n",
      "Epoch 0, Step 1\n"
     ]
    },
    {
     "name": "stderr",
     "output_type": "stream",
     "text": [
      "Accuracy: 0.4286: 100%|██████████| 84/84 [00:21<00:00,  3.85it/s]\n"
     ]
    },
    {
     "name": "stdout",
     "output_type": "stream",
     "text": [
      "Skip Test\n",
      "[Causal Validation] F1: 0.4217, Previous F1: 0.4528\n",
      "[Causal Validation CM]:\n",
      "[[19  6  8]\n",
      " [18 13  2]\n",
      " [ 9  5  4]]\n"
     ]
    },
    {
     "name": "stderr",
     "output_type": "stream",
     "text": [
      "Accuracy: 0.4824: 100%|██████████| 85/85 [00:20<00:00,  4.21it/s]\n",
      "Accuracy: 0.2911:  94%|█████████▍| 79/84 [00:20<00:02,  2.49it/s]"
     ]
    },
    {
     "name": "stdout",
     "output_type": "stream",
     "text": [
      "[Test Result] F1: 0.4634\n",
      "\n",
      "Epoch 0, Step 1\n"
     ]
    },
    {
     "name": "stderr",
     "output_type": "stream",
     "text": [
      "Accuracy: 0.2976: 100%|██████████| 84/84 [00:25<00:00,  3.31it/s]\n"
     ]
    },
    {
     "name": "stdout",
     "output_type": "stream",
     "text": [
      "Skip Test\n",
      "[Causal Validation] F1: 0.3529, Previous F1: 0.4419\n",
      "[Causal Validation CM]:\n",
      "[[ 9  5  6]\n",
      " [ 9 12  2]\n",
      " [ 9  3  4]]\n"
     ]
    },
    {
     "name": "stderr",
     "output_type": "stream",
     "text": [
      "Accuracy: 0.3412: 100%|██████████| 85/85 [00:25<00:00,  3.34it/s]\n",
      "1it [05:15, 315.73s/it]"
     ]
    },
    {
     "name": "stdout",
     "output_type": "stream",
     "text": [
      "[Test Result] F1: 0.3636\n",
      "\n",
      "Epoch 0, Step 1\n"
     ]
    },
    {
     "name": "stderr",
     "output_type": "stream",
     "text": [
      "Accuracy: 0.3810: 100%|██████████| 84/84 [00:26<00:00,  3.13it/s]\n"
     ]
    },
    {
     "name": "stdout",
     "output_type": "stream",
     "text": [
      "Skip Test\n",
      "[System Validation] F1: 0.3884, Previous F1: 0.4046\n",
      "[System Validation CM]:\n",
      "[[15  9  7]\n",
      " [16 12  3]\n",
      " [ 8  5  5]]\n"
     ]
    },
    {
     "name": "stderr",
     "output_type": "stream",
     "text": [
      "Accuracy: 0.4048: 100%|██████████| 84/84 [00:23<00:00,  3.57it/s]\n"
     ]
    },
    {
     "name": "stdout",
     "output_type": "stream",
     "text": [
      "Skip Test\n",
      "[System Validation] F1: 0.3934, Previous F1: 0.4528\n",
      "[System Validation CM]:\n",
      "[[19  7  7]\n",
      " [22  9  2]\n",
      " [ 8  4  6]]\n"
     ]
    },
    {
     "name": "stderr",
     "output_type": "stream",
     "text": [
      "Accuracy: 0.3929: 100%|██████████| 84/84 [00:24<00:00,  3.44it/s]\n"
     ]
    },
    {
     "name": "stdout",
     "output_type": "stream",
     "text": [
      "[Causal Validation] F1: 0.4078, Previous F1: 0.4046\n",
      "[Causal Validation CM]:\n",
      "[[14  7 11]\n",
      " [15 13  1]\n",
      " [ 8  4  6]]\n"
     ]
    },
    {
     "name": "stderr",
     "output_type": "stream",
     "text": [
      "Accuracy: 0.4286: 100%|██████████| 84/84 [00:17<00:00,  4.70it/s]\n"
     ]
    },
    {
     "name": "stdout",
     "output_type": "stream",
     "text": [
      "Skip Test\n",
      "[System Validation] F1: 0.4394, Previous F1: 0.4419\n",
      "[System Validation CM]:\n",
      "[[16  4 13]\n",
      " [16 14  2]\n",
      " [ 6  5  6]]\n"
     ]
    },
    {
     "name": "stderr",
     "output_type": "stream",
     "text": [
      "Accuracy: 0.4235: 100%|██████████| 85/85 [00:24<00:00,  3.54it/s]\n",
      "2it [08:47, 266.33s/it]"
     ]
    },
    {
     "name": "stdout",
     "output_type": "stream",
     "text": [
      "[Test Result] F1: 0.4325\n",
      "\n",
      "Epoch 0, Step 2\n"
     ]
    },
    {
     "name": "stderr",
     "output_type": "stream",
     "text": [
      "Accuracy: 0.3333: 100%|██████████| 84/84 [00:17<00:00,  4.90it/s]\n",
      "2it [09:13, 270.10s/it]"
     ]
    },
    {
     "name": "stdout",
     "output_type": "stream",
     "text": [
      "Skip Test\n",
      "[Causal Validation] F1: 0.3907, Previous F1: 0.4419\n",
      "[Causal Validation CM]:\n",
      "[[13  2  7]\n",
      " [13  8  2]\n",
      " [ 5  1  7]]\n",
      "Skip Test\n",
      "\n",
      "Epoch 0, Step 2\n"
     ]
    },
    {
     "name": "stderr",
     "output_type": "stream",
     "text": [
      "Accuracy: 0.3929: 100%|██████████| 84/84 [00:32<00:00,  2.57it/s]\n",
      "2it [09:19, 278.26s/it]"
     ]
    },
    {
     "name": "stdout",
     "output_type": "stream",
     "text": [
      "Skip Test\n",
      "[Causal Validation] F1: 0.3900, Previous F1: 0.4528\n",
      "[Causal Validation CM]:\n",
      "[[17  5 11]\n",
      " [20 10  3]\n",
      " [ 8  4  6]]\n",
      "Skip Test\n",
      "\n",
      "Epoch 0, Step 2\n"
     ]
    },
    {
     "name": "stderr",
     "output_type": "stream",
     "text": [
      "Accuracy: 0.3929: 100%|██████████| 84/84 [00:32<00:00,  2.61it/s]\n"
     ]
    },
    {
     "name": "stdout",
     "output_type": "stream",
     "text": [
      "[System Validation] F1: 0.4198, Previous F1: 0.4078\n",
      "[System Validation CM]:\n",
      "[[13  9  8]\n",
      " [12 12  2]\n",
      " [ 4  5  8]]\n"
     ]
    },
    {
     "name": "stderr",
     "output_type": "stream",
     "text": [
      "Accuracy: 0.4167: 100%|██████████| 84/84 [00:23<00:00,  3.51it/s]\n"
     ]
    },
    {
     "name": "stdout",
     "output_type": "stream",
     "text": [
      "[Causal Validation] F1: 0.4320, Previous F1: 0.4198\n",
      "[Causal Validation CM]:\n",
      "[[15  8  8]\n",
      " [16 11  3]\n",
      " [ 4  3  9]]\n"
     ]
    },
    {
     "name": "stderr",
     "output_type": "stream",
     "text": [
      "Accuracy: 0.3214: 100%|██████████| 84/84 [01:34<00:00,  1.13s/it]\n"
     ]
    },
    {
     "name": "stdout",
     "output_type": "stream",
     "text": [
      "Skip Test\n",
      "[System Validation] F1: 0.3764, Previous F1: 0.4419\n",
      "[System Validation CM]:\n",
      "[[13  1 14]\n",
      " [12 10  5]\n",
      " [ 3  3  4]]\n"
     ]
    },
    {
     "name": "stderr",
     "output_type": "stream",
     "text": [
      "Accuracy: 0.4286: 100%|██████████| 84/84 [00:27<00:00,  3.09it/s]\n"
     ]
    },
    {
     "name": "stdout",
     "output_type": "stream",
     "text": [
      "[Causal Validation] F1: 0.4620, Previous F1: 0.4419\n",
      "[Causal Validation CM]:\n",
      "[[13  9  6]\n",
      " [ 8 16  4]\n",
      " [ 6  3  7]]\n"
     ]
    },
    {
     "name": "stderr",
     "output_type": "stream",
     "text": [
      "Accuracy: 0.4762: 100%|██████████| 84/84 [02:01<00:00,  1.44s/it]\n"
     ]
    },
    {
     "name": "stdout",
     "output_type": "stream",
     "text": [
      "[System Validation] F1: 0.4679, Previous F1: 0.4528\n",
      "[System Validation CM]:\n",
      "[[21  8  4]\n",
      " [17 13  3]\n",
      " [ 8  4  6]]\n"
     ]
    },
    {
     "name": "stderr",
     "output_type": "stream",
     "text": [
      "Accuracy: 0.3882: 100%|██████████| 85/85 [00:23<00:00,  3.61it/s]\n",
      "3it [14:35, 293.71s/it]"
     ]
    },
    {
     "name": "stdout",
     "output_type": "stream",
     "text": [
      "[Test Result] F1: 0.4019\n",
      "\n",
      "Epoch 0, Step 3\n"
     ]
    },
    {
     "name": "stderr",
     "output_type": "stream",
     "text": [
      "Accuracy: 0.4762: 100%|██████████| 84/84 [00:31<00:00,  2.67it/s]\n"
     ]
    },
    {
     "name": "stdout",
     "output_type": "stream",
     "text": [
      "Skip Test\n",
      "[Causal Validation] F1: 0.4311, Previous F1: 0.4679\n",
      "[Causal Validation CM]:\n",
      "[[28  2  3]\n",
      " [23  9  1]\n",
      " [12  3  3]]\n"
     ]
    },
    {
     "name": "stderr",
     "output_type": "stream",
     "text": [
      "Accuracy: 0.5059: 100%|██████████| 85/85 [00:31<00:00,  2.71it/s]\n",
      "3it [15:52, 330.64s/it]"
     ]
    },
    {
     "name": "stdout",
     "output_type": "stream",
     "text": [
      "[Test Result] F1: 0.4604\n",
      "\n",
      "Epoch 0, Step 3\n"
     ]
    },
    {
     "name": "stderr",
     "output_type": "stream",
     "text": [
      "Accuracy: 0.4235: 100%|██████████| 85/85 [03:48<00:00,  2.69s/it]\n",
      "3it [16:55, 367.75s/it]"
     ]
    },
    {
     "name": "stdout",
     "output_type": "stream",
     "text": [
      "[Test Result] F1: 0.4343\n",
      "\n",
      "Epoch 0, Step 3\n"
     ]
    },
    {
     "name": "stderr",
     "output_type": "stream",
     "text": [
      "Accuracy: 0.4286: 100%|██████████| 84/84 [00:23<00:00,  3.61it/s]\n"
     ]
    },
    {
     "name": "stdout",
     "output_type": "stream",
     "text": [
      "[System Validation] F1: 0.4666, Previous F1: 0.4620\n",
      "[System Validation CM]:\n",
      "[[16  7  2]\n",
      " [ 7 18  0]\n",
      " [ 7  4  2]]\n"
     ]
    },
    {
     "name": "stderr",
     "output_type": "stream",
     "text": [
      "Accuracy: 0.3810: 100%|██████████| 84/84 [00:21<00:00,  3.84it/s]\n"
     ]
    },
    {
     "name": "stdout",
     "output_type": "stream",
     "text": [
      "Skip Test\n",
      "[Causal Validation] F1: 0.4202, Previous F1: 0.4666\n",
      "[Causal Validation CM]:\n",
      "[[17  6  1]\n",
      " [11 14  0]\n",
      " [ 5  3  1]]\n"
     ]
    },
    {
     "name": "stderr",
     "output_type": "stream",
     "text": [
      "Accuracy: 0.4405: 100%|██████████| 84/84 [00:39<00:00,  2.12it/s]\n",
      "Accuracy: 0.2273:  26%|██▌       | 22/85 [00:12<00:15,  3.98it/s]"
     ]
    },
    {
     "name": "stdout",
     "output_type": "stream",
     "text": [
      "Skip Test\n",
      "[System Validation] F1: 0.4230, Previous F1: 0.4679\n",
      "[System Validation CM]:\n",
      "[[22  7  4]\n",
      " [22 10  1]\n",
      " [ 9  4  5]]\n"
     ]
    },
    {
     "name": "stderr",
     "output_type": "stream",
     "text": [
      "Accuracy: 0.3647: 100%|██████████| 85/85 [00:48<00:00,  1.74it/s]\n",
      "Accuracy: 0.4737:  23%|██▎       | 19/84 [00:15<00:09,  6.75it/s]"
     ]
    },
    {
     "name": "stdout",
     "output_type": "stream",
     "text": [
      "[Test Result] F1: 0.3896\n",
      "\n",
      "Epoch 0, Step 4\n"
     ]
    },
    {
     "name": "stderr",
     "output_type": "stream",
     "text": [
      "Accuracy: 0.4286: 100%|██████████| 84/84 [00:26<00:00,  3.16it/s]\n",
      "4it [19:56, 296.59s/it]"
     ]
    },
    {
     "name": "stdout",
     "output_type": "stream",
     "text": [
      "Skip Test\n",
      "[Causal Validation] F1: 0.3890, Previous F1: 0.4679\n",
      "[Causal Validation CM]:\n",
      "[[25  5  2]\n",
      " [22  9  2]\n",
      " [14  2  2]]\n",
      "Skip Test\n",
      "\n",
      "Epoch 0, Step 4\n"
     ]
    },
    {
     "name": "stderr",
     "output_type": "stream",
     "text": [
      "Accuracy: 0.4048: 100%|██████████| 84/84 [00:36<00:00,  2.28it/s]\n"
     ]
    },
    {
     "name": "stdout",
     "output_type": "stream",
     "text": [
      "Skip Test\n",
      "[System Validation] F1: 0.4120, Previous F1: 0.4320\n",
      "[System Validation CM]:\n",
      "[[15  8  9]\n",
      " [18 12  1]\n",
      " [ 6  5  7]]\n"
     ]
    },
    {
     "name": "stderr",
     "output_type": "stream",
     "text": [
      "Accuracy: 0.3810: 100%|██████████| 84/84 [00:18<00:00,  4.50it/s]\n",
      "4it [20:33, 308.55s/it]"
     ]
    },
    {
     "name": "stdout",
     "output_type": "stream",
     "text": [
      "Skip Test\n",
      "[Causal Validation] F1: 0.4082, Previous F1: 0.4320\n",
      "[Causal Validation CM]:\n",
      "[[14  8  8]\n",
      " [12 12  2]\n",
      " [ 8  3  6]]\n",
      "Skip Test\n",
      "\n",
      "Epoch 0, Step 4\n"
     ]
    },
    {
     "name": "stderr",
     "output_type": "stream",
     "text": [
      "Accuracy: 0.5238: 100%|██████████| 84/84 [00:35<00:00,  2.40it/s]\n",
      "Accuracy: 0.3594:  76%|███████▌  | 64/84 [00:09<00:02,  9.99it/s]"
     ]
    },
    {
     "name": "stdout",
     "output_type": "stream",
     "text": [
      "[System Validation] F1: 0.5177, Previous F1: 0.4666\n",
      "[System Validation CM]:\n",
      "[[18 12  3]\n",
      " [11 21  1]\n",
      " [ 9  3  5]]\n"
     ]
    },
    {
     "name": "stderr",
     "output_type": "stream",
     "text": [
      "Accuracy: 0.3810: 100%|██████████| 84/84 [00:17<00:00,  4.85it/s]\n"
     ]
    },
    {
     "name": "stdout",
     "output_type": "stream",
     "text": [
      "Skip Test\n",
      "[System Validation] F1: 0.3907, Previous F1: 0.4320\n",
      "[System Validation CM]:\n",
      "[[12  7 12]\n",
      " [18 12  2]\n",
      " [ 6  4  8]]\n"
     ]
    },
    {
     "name": "stderr",
     "output_type": "stream",
     "text": [
      "Accuracy: 0.4286: 100%|██████████| 84/84 [00:23<00:00,  3.58it/s]\n"
     ]
    },
    {
     "name": "stdout",
     "output_type": "stream",
     "text": [
      "Skip Test\n",
      "[System Validation] F1: 0.4284, Previous F1: 0.4679\n",
      "[System Validation CM]:\n",
      "[[18  7  7]\n",
      " [20 13  0]\n",
      " [10  3  5]]\n"
     ]
    },
    {
     "name": "stderr",
     "output_type": "stream",
     "text": [
      "Accuracy: 0.5476: 100%|██████████| 84/84 [00:23<00:00,  3.57it/s]\n"
     ]
    },
    {
     "name": "stdout",
     "output_type": "stream",
     "text": [
      "[Causal Validation] F1: 0.5435, Previous F1: 0.5177\n",
      "[Causal Validation CM]:\n",
      "[[21  7  3]\n",
      " [13 20  0]\n",
      " [ 7  6  5]]\n"
     ]
    },
    {
     "name": "stderr",
     "output_type": "stream",
     "text": [
      "Accuracy: 0.4286: 100%|██████████| 84/84 [00:18<00:00,  4.43it/s]\n"
     ]
    },
    {
     "name": "stdout",
     "output_type": "stream",
     "text": [
      "[Causal Validation] F1: 0.4427, Previous F1: 0.4320\n",
      "[Causal Validation CM]:\n",
      "[[ 9 10  9]\n",
      " [ 8 19  3]\n",
      " [ 6  4  8]]\n"
     ]
    },
    {
     "name": "stderr",
     "output_type": "stream",
     "text": [
      "Accuracy: 0.4643: 100%|██████████| 84/84 [00:21<00:00,  3.84it/s]\n",
      "Accuracy: 0.4746:  68%|██████▊   | 58/85 [00:16<00:02, 11.90it/s]"
     ]
    },
    {
     "name": "stdout",
     "output_type": "stream",
     "text": [
      "Skip Test\n",
      "[Causal Validation] F1: 0.4355, Previous F1: 0.4679\n",
      "[Causal Validation CM]:\n",
      "[[25  6  2]\n",
      " [22 10  1]\n",
      " [11  3  4]]\n",
      "Skip Test\n",
      "\n",
      "Epoch 0, Step 5\n"
     ]
    },
    {
     "name": "stderr",
     "output_type": "stream",
     "text": [
      "Accuracy: 0.5176: 100%|██████████| 85/85 [00:25<00:00,  3.29it/s]\n",
      "5it [24:15, 289.40s/it]"
     ]
    },
    {
     "name": "stdout",
     "output_type": "stream",
     "text": [
      "[Test Result] F1: 0.4879\n",
      "\n",
      "Epoch 0, Step 5\n"
     ]
    },
    {
     "name": "stderr",
     "output_type": "stream",
     "text": [
      "Accuracy: 0.3765: 100%|██████████| 85/85 [00:25<00:00,  3.34it/s]\n",
      "5it [24:13, 276.58s/it]"
     ]
    },
    {
     "name": "stdout",
     "output_type": "stream",
     "text": [
      "[Test Result] F1: 0.3736\n",
      "\n",
      "Epoch 0, Step 5\n"
     ]
    },
    {
     "name": "stderr",
     "output_type": "stream",
     "text": [
      "Accuracy: 0.4405: 100%|██████████| 84/84 [00:19<00:00,  4.25it/s]\n"
     ]
    },
    {
     "name": "stdout",
     "output_type": "stream",
     "text": [
      "Skip Test\n",
      "[System Validation] F1: 0.4397, Previous F1: 0.4427\n",
      "[System Validation CM]:\n",
      "[[13 10 10]\n",
      " [13 18  2]\n",
      " [ 6  6  6]]\n"
     ]
    },
    {
     "name": "stderr",
     "output_type": "stream",
     "text": [
      "Accuracy: 0.4524: 100%|██████████| 84/84 [00:21<00:00,  3.87it/s]\n"
     ]
    },
    {
     "name": "stdout",
     "output_type": "stream",
     "text": [
      "Skip Test\n",
      "[System Validation] F1: 0.4585, Previous F1: 0.4679\n",
      "[System Validation CM]:\n",
      "[[19  8  6]\n",
      " [15 14  2]\n",
      " [ 9  2  5]]\n"
     ]
    },
    {
     "name": "stderr",
     "output_type": "stream",
     "text": [
      "Accuracy: 0.5476: 100%|██████████| 84/84 [00:14<00:00,  5.86it/s]\n",
      "Accuracy: 0.0000:   1%|          | 1/84 [00:06<08:27,  6.12s/it]"
     ]
    },
    {
     "name": "stdout",
     "output_type": "stream",
     "text": [
      "Skip Test\n",
      "[System Validation] F1: 0.5365, Previous F1: 0.5435\n",
      "[System Validation CM]:\n",
      "[[21  9  3]\n",
      " [13 20  0]\n",
      " [ 7  6  5]]\n"
     ]
    },
    {
     "name": "stderr",
     "output_type": "stream",
     "text": [
      "Accuracy: 0.4405: 100%|██████████| 84/84 [00:18<00:00,  4.44it/s]\n"
     ]
    },
    {
     "name": "stdout",
     "output_type": "stream",
     "text": [
      "[Causal Validation] F1: 0.4690, Previous F1: 0.4427\n",
      "[Causal Validation CM]:\n",
      "[[13  8  9]\n",
      " [10 16  2]\n",
      " [ 4  4  8]]\n"
     ]
    },
    {
     "name": "stderr",
     "output_type": "stream",
     "text": [
      "Accuracy: 0.4286: 100%|██████████| 84/84 [00:22<00:00,  3.80it/s]\n",
      "5it [28:21, 340.34s/it]\n",
      "Accuracy: 0.5181:  96%|█████████▋| 82/85 [00:17<00:00,  3.41it/s]"
     ]
    },
    {
     "name": "stdout",
     "output_type": "stream",
     "text": [
      "Skip Test\n",
      "[Causal Validation] F1: 0.4336, Previous F1: 0.4679\n",
      "[Causal Validation CM]:\n",
      "[[15  8 10]\n",
      " [16 15  1]\n",
      " [ 8  4  6]]\n",
      "Skip Test\n",
      "[Worker 1] [Iteration 1] val_best=0.4679, test_at_best=0.4604\n",
      "[Main] Worker 1 done. Best test_f1=0.4604\n"
     ]
    },
    {
     "name": "stderr",
     "output_type": "stream",
     "text": [
      "Accuracy: 0.5176: 100%|██████████| 85/85 [00:19<00:00,  4.26it/s]\n",
      "5it [28:16, 339.35s/it]\n",
      "Accuracy: 0.3478:  26%|██▌       | 22/84 [00:14<00:08,  7.29it/s]"
     ]
    },
    {
     "name": "stdout",
     "output_type": "stream",
     "text": [
      "[Test Result] F1: 0.5262\n",
      "[Worker 2] [Iteration 1] val_best=0.4690, test_at_best=0.5262\n",
      "[Main] Worker 2 done. Best test_f1=0.5262\n"
     ]
    },
    {
     "name": "stderr",
     "output_type": "stream",
     "text": [
      "Accuracy: 0.5119: 100%|██████████| 84/84 [00:22<00:00,  3.70it/s]\n",
      "5it [28:29, 341.85s/it]"
     ]
    },
    {
     "name": "stdout",
     "output_type": "stream",
     "text": [
      "Skip Test\n",
      "[Causal Validation] F1: 0.4907, Previous F1: 0.5435\n",
      "[Causal Validation CM]:\n",
      "[[18 11  4]\n",
      " [11 22  0]\n",
      " [ 9  6  3]]\n",
      "Skip Test\n",
      "[Worker 0] [Iteration 1] val_best=0.5435, test_at_best=0.4879\n",
      "[Main] Worker 0 done. Best test_f1=0.4879\n",
      "EGO_res (best test F1 per worker): [0.46038415366146457, 0.5261764705882354, 0.4878954248366013]\n"
     ]
    },
    {
     "name": "stderr",
     "output_type": "stream",
     "text": [
      "\n"
     ]
    }
   ],
   "source": [
    "NUM_WORKERS = 3\n",
    "ITERS = 1\n",
    "total_steps=5\n",
    "\n",
    "EGO_res = []\n",
    "\n",
    "\n",
    "with ThreadPoolExecutor(max_workers=NUM_WORKERS) as ex:\n",
    "    futures = [ex.submit(run_one_worker, i) for i in range(NUM_WORKERS)]\n",
    "    for fut in as_completed(futures):\n",
    "        res = fut.result()\n",
    "        EGO_res.append(res['best_test_f1'])\n",
    "        print(f\"[Main] Worker {res['worker_id']} done. Best test_f1={res['best_test_f1']:.4f}\")\n",
    "\n",
    "print(\"EGO_res (best test F1 per worker):\", EGO_res)"
   ]
  }
 ],
 "metadata": {
  "kernelspec": {
   "display_name": "Python 3 (ipykernel)",
   "language": "python",
   "name": "python3"
  },
  "language_info": {
   "codemirror_mode": {
    "name": "ipython",
    "version": 3
   },
   "file_extension": ".py",
   "mimetype": "text/x-python",
   "name": "python",
   "nbconvert_exporter": "python",
   "pygments_lexer": "ipython3",
   "version": "3.12.3"
  }
 },
 "nbformat": 4,
 "nbformat_minor": 4
}
