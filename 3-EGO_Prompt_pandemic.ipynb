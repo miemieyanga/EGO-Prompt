{
 "cells": [
  {
   "cell_type": "markdown",
   "metadata": {},
   "source": [
    "# Task Settings"
   ]
  },
  {
   "cell_type": "code",
   "execution_count": 1,
   "metadata": {},
   "outputs": [],
   "source": [
    "import os\n",
    "os.environ['OPENAI_API_KEY']=\"YOUR_API_KEY\"\n",
    "\n",
    "\n",
    "from utils import *\n",
    "from prompts import Prompts, TASK_LABLES, TAGS\n",
    "\n",
    "dataset_name = 'pandemic'\n",
    "test_model = \"experimental:gpt-4o-mini\"\n",
    "eval_model = \"gpt-4o\" \n",
    "iteration = 1\n",
    "date = '0919'\n",
    "total_steps=5   \n",
    "epoch=1\n",
    "batch_size=3"
   ]
  },
  {
   "cell_type": "markdown",
   "metadata": {},
   "source": [
    "# Initialize"
   ]
  },
  {
   "cell_type": "code",
   "execution_count": 2,
   "metadata": {},
   "outputs": [
    {
     "name": "stdout",
     "output_type": "stream",
     "text": [
      "Train/Val/Test Set Lengths:  100 100 100\n"
     ]
    }
   ],
   "source": [
    "cm_labels = TASK_LABLES[dataset_name]\n",
    "tags = TAGS[dataset_name]\n",
    "CAUSAL_SYSTEM = Prompts[dataset_name]['CAUSAL_SYSTEM']\n",
    "CAUSAL_SYSTEM_CONSTRAINT = Prompts[dataset_name]['CAUSAL_SYSTEM_CONSTRAINT']\n",
    "SYSTEM = Prompts[dataset_name]['SYSTEM']\n",
    "\n",
    "llm_api_eval = tg.get_engine(engine_name=eval_model)\n",
    "llm_api_test = tg.get_engine(engine_name=test_model, cache=False)\n",
    "tg.set_backward_engine(llm_api_eval, override=True)\n",
    "\n",
    "train_set, val_set, test_set_ori, eval_fn = load_task(dataset_name, evaluation_api=llm_api_eval, prompt_col=\"organized_prompt\")\n",
    "train_loader = tg.tasks.DataLoader(train_set, batch_size=batch_size, shuffle=True)\n",
    "\n",
    "# Add Tag\n",
    "col = \"organized_prompt\" if dataset_name == 'swiss' else \"prompt\"\n",
    "train_set.data[col] = train_set.data[col].apply(lambda x: f\"{tags[0]}{x}{tags[1]}\")\n",
    "val_set.data[col] = val_set.data[col].apply(lambda x: f\"{tags[0]}{x}{tags[1]}\")\n",
    "test_set_ori.data[col] = test_set_ori.data[col].apply(lambda x: f\"{tags[0]}{x}{tags[1]}\")\n",
    "print(\"Train/Val/Test Set Lengths: \", len(train_set), len(val_set), len(test_set_ori))"
   ]
  },
  {
   "cell_type": "code",
   "execution_count": 3,
   "metadata": {},
   "outputs": [],
   "source": [
    "system_prompt, causal_prompt, model, causal_model, optimizer, optimizer_causal = init(SYSTEM, CAUSAL_SYSTEM, llm_api_test, llm_api_eval, CAUSAL_SYSTEM_CONSTRAINT)\n",
    "results = {\"test_f1\": [], \"prompt\": [], \"validation_f1\": [], 'system_prompt':[], 'causal_prompt': []}"
   ]
  },
  {
   "cell_type": "code",
   "execution_count": 4,
   "metadata": {},
   "outputs": [],
   "source": [
    "import time\n",
    "import copy\n",
    "import numpy as np\n",
    "from concurrent.futures import ThreadPoolExecutor, as_completed\n",
    "\n",
    "NUM_WORKERS = 1\n",
    "\n",
    "def run_one_worker(worker_id: int):\n",
    "\n",
    "    local_test_set = copy.deepcopy(test_set)\n",
    "    local_test_set_ori = copy.deepcopy(test_set_ori)\n",
    "    local_val_set = copy.deepcopy(val_set)\n",
    "    local_train_loader = train_loader\n",
    "\n",
    "    val_performance = -float('inf')\n",
    "    test_performance = -float('inf')\n",
    "    final_results = None\n",
    "    all_val_f1s = []\n",
    "    all_test_f1s = []\n",
    "\n",
    "    local_test_set.data[col] = local_test_set_ori.data[col].apply(\n",
    "        lambda x: f\"<!-- {time.time()} (w{worker_id}) -->, {x}\"\n",
    "    )\n",
    "\n",
    "    for cur_iter in range(iteration):\n",
    "        print(f\"[Worker {worker_id}] [Iteration {cur_iter+1}/{iteration}] begin\")\n",
    "        output_json = (\n",
    "            f\"res/{date}_{dataset_name}_{test_model.split('/')[-1].split(':')[-1]}_\"\n",
    "            f\"w{worker_id}_it{cur_iter+1}.json\"\n",
    "        )\n",
    "        initialize_json_file(output_json)\n",
    "\n",
    "        system_prompt, causal_prompt, model, causal_model, optimizer, optimizer_causal = init(\n",
    "            SYSTEM, CAUSAL_SYSTEM, llm_api_test, llm_api_eval, CAUSAL_SYSTEM_CONSTRAINT\n",
    "        )\n",
    "\n",
    "        results, test_res, val_res = init_eval(\n",
    "            local_val_set, local_test_set, eval_fn, model, causal_model,\n",
    "            system_prompt, causal_prompt, cm_labels, iters=ITERS    \n",
    "        )\n",
    "\n",
    "        results = run_training(\n",
    "            local_train_loader, local_val_set, local_test_set, eval_fn,\n",
    "            model, causal_model, system_prompt, causal_prompt,\n",
    "            optimizer, optimizer_causal, results, cm_labels,\n",
    "            output_json=output_json, epoch=epoch, steps=total_steps, iters=ITERS\n",
    "        )\n",
    "\n",
    "        all_val_f1s.append(results['validation_f1'])\n",
    "        all_test_f1s.append(results['test_f1'])\n",
    "\n",
    "        cur_val = results['validation_f1'][-1]\n",
    "        cur_test = results['test_f1'][-1]\n",
    "        if cur_val > val_performance:\n",
    "            val_performance = cur_val\n",
    "            test_performance = cur_test\n",
    "            final_results = results\n",
    "\n",
    "        print(f\"[Worker {worker_id}] [Iteration {cur_iter+1}] \"\n",
    "              f\"val_best={val_performance:.4f}, test_at_best={test_performance:.4f}\")\n",
    "\n",
    "    return {\n",
    "        'best_test_f1': test_performance,\n",
    "        'val_f1s': all_val_f1s,\n",
    "        'test_f1s': all_test_f1s,\n",
    "        'worker_id': worker_id,\n",
    "    }\n"
   ]
  },
  {
   "cell_type": "markdown",
   "metadata": {},
   "source": [
    "# Running the cell below will incur API usage charges. Refer to our paper for detailed cost"
   ]
  },
  {
   "cell_type": "code",
   "execution_count": 5,
   "metadata": {},
   "outputs": [
    {
     "name": "stdout",
     "output_type": "stream",
     "text": [
      "[Worker 0] [Iteration 1/1] begin[Worker 1] [Iteration 1/1] begin\n",
      "\n",
      "[Worker 2] [Iteration 1/1] begin\n"
     ]
    },
    {
     "name": "stderr",
     "output_type": "stream",
     "text": [
      "Accuracy: 0.3300: 100%|██████████| 100/100 [00:14<00:00,  6.79it/s]\n",
      "Accuracy: 0.3700: 100%|██████████| 100/100 [00:15<00:00,  6.34it/s]\n",
      "Accuracy: 0.3200: 100%|██████████| 100/100 [00:16<00:00,  6.10it/s]\n",
      "Accuracy: 0.4700: 100%|██████████| 100/100 [00:16<00:00,  6.19it/s]\n"
     ]
    },
    {
     "name": "stdout",
     "output_type": "stream",
     "text": [
      "SCG_val_f1: 0.47891035970830037, SCG_test_f1:0.37069647287038593\n"
     ]
    },
    {
     "name": "stderr",
     "output_type": "stream",
     "text": [
      "0it [00:00, ?it/s]"
     ]
    },
    {
     "name": "stdout",
     "output_type": "stream",
     "text": [
      "\n",
      "Epoch 0, Step 0\n"
     ]
    },
    {
     "name": "stderr",
     "output_type": "stream",
     "text": [
      "Accuracy: 0.4800: 100%|██████████| 100/100 [00:16<00:00,  5.94it/s]\n"
     ]
    },
    {
     "name": "stdout",
     "output_type": "stream",
     "text": [
      "SCG_val_f1: 0.4683242147922999, SCG_test_f1:0.2951439283986454\n"
     ]
    },
    {
     "name": "stderr",
     "output_type": "stream",
     "text": [
      "0it [00:00, ?it/s]"
     ]
    },
    {
     "name": "stdout",
     "output_type": "stream",
     "text": [
      "\n",
      "Epoch 0, Step 0\n"
     ]
    },
    {
     "name": "stderr",
     "output_type": "stream",
     "text": [
      "Accuracy: 0.4500: 100%|██████████| 100/100 [00:28<00:00,  3.49it/s]\n"
     ]
    },
    {
     "name": "stdout",
     "output_type": "stream",
     "text": [
      "SCG_val_f1: 0.42588531347498354, SCG_test_f1:0.3052992435971159\n"
     ]
    },
    {
     "name": "stderr",
     "output_type": "stream",
     "text": [
      "0it [00:00, ?it/s]"
     ]
    },
    {
     "name": "stdout",
     "output_type": "stream",
     "text": [
      "\n",
      "Epoch 0, Step 0\n"
     ]
    },
    {
     "name": "stderr",
     "output_type": "stream",
     "text": [
      "Accuracy: 0.4600: 100%|██████████| 100/100 [00:32<00:00,  3.03it/s]\n"
     ]
    },
    {
     "name": "stdout",
     "output_type": "stream",
     "text": [
      "Skip Test\n",
      "[System Validation] F1: 0.4431, Previous F1: 0.4683\n",
      "[System Validation CM]:\n",
      "[[ 0 11  6  1  0]\n",
      " [ 0 12  4  2  0]\n",
      " [ 0  2 12  6  1]\n",
      " [ 0  2  1  8  2]\n",
      " [ 0  1  2  5 14]]\n"
     ]
    },
    {
     "name": "stderr",
     "output_type": "stream",
     "text": [
      "Accuracy: 0.4900: 100%|██████████| 100/100 [00:32<00:00,  3.12it/s]\n",
      "Accuracy: 0.4231:  26%|██▌       | 26/100 [00:16<00:11,  6.57it/s]"
     ]
    },
    {
     "name": "stdout",
     "output_type": "stream",
     "text": [
      "[System Validation] F1: 0.4790, Previous F1: 0.4789\n",
      "[System Validation CM]:\n",
      "[[ 3 11  3  1  0]\n",
      " [ 1 13  3  3  0]\n",
      " [ 0  1 15  4  1]\n",
      " [ 0  0  3  8  6]\n",
      " [ 0  0  2 11 10]]\n"
     ]
    },
    {
     "name": "stderr",
     "output_type": "stream",
     "text": [
      "Accuracy: 0.5000: 100%|██████████| 100/100 [00:24<00:00,  4.07it/s]\n"
     ]
    },
    {
     "name": "stdout",
     "output_type": "stream",
     "text": [
      "[System Validation] F1: 0.4872, Previous F1: 0.4259\n",
      "[System Validation CM]:\n",
      "[[ 2  6  8  1  0]\n",
      " [ 0 11  7  2  0]\n",
      " [ 0  4 12  5  1]\n",
      " [ 0  0  2 11  4]\n",
      " [ 0  0  1  6 14]]\n"
     ]
    },
    {
     "name": "stderr",
     "output_type": "stream",
     "text": [
      "Accuracy: 0.4000: 100%|██████████| 100/100 [00:22<00:00,  4.51it/s]\n",
      "Accuracy: 0.5714:  14%|█▍        | 14/100 [00:18<00:22,  3.77it/s]"
     ]
    },
    {
     "name": "stdout",
     "output_type": "stream",
     "text": [
      "Skip Test\n",
      "[Causal Validation] F1: 0.3999, Previous F1: 0.4683\n",
      "[Causal Validation CM]:\n",
      "[[ 4  5  5  3  0]\n",
      " [ 0  4 13  2  0]\n",
      " [ 0  3  9  7  3]\n",
      " [ 0  0  1 10  6]\n",
      " [ 0  0  1  7 13]]\n",
      "Skip Test\n",
      "\n",
      "Epoch 0, Step 1\n"
     ]
    },
    {
     "name": "stderr",
     "output_type": "stream",
     "text": [
      "Accuracy: 0.4600: 100%|██████████| 100/100 [00:33<00:00,  3.02it/s]\n"
     ]
    },
    {
     "name": "stdout",
     "output_type": "stream",
     "text": [
      "Skip Test\n",
      "[Causal Validation] F1: 0.4277, Previous F1: 0.4790\n",
      "[Causal Validation CM]:\n",
      "[[ 0 10  5  2  0]\n",
      " [ 0 10  8  2  0]\n",
      " [ 0  4 11  7  0]\n",
      " [ 0  1  2 13  1]\n",
      " [ 0  0  1 10 12]]\n"
     ]
    },
    {
     "name": "stderr",
     "output_type": "stream",
     "text": [
      "Accuracy: 0.4100: 100%|██████████| 100/100 [00:26<00:00,  3.84it/s]\n"
     ]
    },
    {
     "name": "stdout",
     "output_type": "stream",
     "text": [
      "Skip Test\n",
      "[Causal Validation] F1: 0.3800, Previous F1: 0.4872\n",
      "[Causal Validation CM]:\n",
      "[[ 1  6  9  2  0]\n",
      " [ 0  6  9  4  0]\n",
      " [ 0  1 13  6  2]\n",
      " [ 0  0  1 12  4]\n",
      " [ 0  1  0 13  9]]\n"
     ]
    },
    {
     "name": "stderr",
     "output_type": "stream",
     "text": [
      "Accuracy: 0.3300: 100%|██████████| 100/100 [00:23<00:00,  4.18it/s]\n",
      "1it [02:46, 166.72s/it]"
     ]
    },
    {
     "name": "stdout",
     "output_type": "stream",
     "text": [
      "[Test Result] F1: 0.2964\n",
      "\n",
      "Epoch 0, Step 1\n"
     ]
    },
    {
     "name": "stderr",
     "output_type": "stream",
     "text": [
      "Accuracy: 0.3100: 100%|██████████| 100/100 [00:26<00:00,  3.77it/s]\n",
      "1it [03:00, 180.21s/it]"
     ]
    },
    {
     "name": "stdout",
     "output_type": "stream",
     "text": [
      "[Test Result] F1: 0.3141\n",
      "\n",
      "Epoch 0, Step 1\n"
     ]
    },
    {
     "name": "stderr",
     "output_type": "stream",
     "text": [
      "Accuracy: 0.4600: 100%|██████████| 100/100 [00:20<00:00,  4.89it/s]\n"
     ]
    },
    {
     "name": "stdout",
     "output_type": "stream",
     "text": [
      "Skip Test\n",
      "[System Validation] F1: 0.4319, Previous F1: 0.4683\n",
      "[System Validation CM]:\n",
      "[[ 1 11  5  1  0]\n",
      " [ 0 11  7  2  0]\n",
      " [ 0  2 11  7  2]\n",
      " [ 0  1  2 12  2]\n",
      " [ 0  0  2 10 11]]\n"
     ]
    },
    {
     "name": "stderr",
     "output_type": "stream",
     "text": [
      "Accuracy: 0.3400: 100%|██████████| 100/100 [00:21<00:00,  4.55it/s]\n",
      "2it [04:20, 129.27s/it]"
     ]
    },
    {
     "name": "stdout",
     "output_type": "stream",
     "text": [
      "Skip Test\n",
      "[Causal Validation] F1: 0.3170, Previous F1: 0.4683\n",
      "[Causal Validation CM]:\n",
      "[[ 0 12  5  1  0]\n",
      " [ 1  6 10  3  0]\n",
      " [ 0  5  5 11  0]\n",
      " [ 0  0  1 12  3]\n",
      " [ 0  0  2 10 11]]\n",
      "Skip Test\n",
      "\n",
      "Epoch 0, Step 2\n"
     ]
    },
    {
     "name": "stderr",
     "output_type": "stream",
     "text": [
      "Accuracy: 0.3000: 100%|██████████| 100/100 [00:22<00:00,  4.39it/s]\n"
     ]
    },
    {
     "name": "stdout",
     "output_type": "stream",
     "text": [
      "Skip Test\n",
      "[System Validation] F1: 0.3517, Previous F1: 0.4790\n",
      "[System Validation CM]:\n",
      "[[ 1  4  7  0  0]\n",
      " [ 0  5  3  2  0]\n",
      " [ 0  1  4  5  0]\n",
      " [ 0  0  2  6  3]\n",
      " [ 0  0  1  4 14]]\n"
     ]
    },
    {
     "name": "stderr",
     "output_type": "stream",
     "text": [
      "Accuracy: 0.0000: 100%|██████████| 100/100 [00:26<00:00,  3.83it/s]\n"
     ]
    },
    {
     "name": "stdout",
     "output_type": "stream",
     "text": [
      "Skip Test\n",
      "[System Validation] F1: 0.0000, Previous F1: 0.4872\n",
      "[System Validation CM]:\n",
      "[[0 0 0 0 0]\n",
      " [0 0 1 0 0]\n",
      " [0 0 0 0 0]\n",
      " [0 0 0 0 0]\n",
      " [0 0 1 0 0]]\n"
     ]
    },
    {
     "name": "stderr",
     "output_type": "stream",
     "text": [
      "Accuracy: 0.4700: 100%|██████████| 100/100 [00:24<00:00,  4.03it/s]\n",
      "2it [05:30, 162.45s/it]"
     ]
    },
    {
     "name": "stdout",
     "output_type": "stream",
     "text": [
      "Skip Test\n",
      "[Causal Validation] F1: 0.4479, Previous F1: 0.4790\n",
      "[Causal Validation CM]:\n",
      "[[ 1 11  4  2  0]\n",
      " [ 1 10  7  2  0]\n",
      " [ 0  4  9  5  3]\n",
      " [ 0  1  2 12  1]\n",
      " [ 0  0  1  7 15]]\n",
      "Skip Test\n",
      "\n",
      "Epoch 0, Step 2\n"
     ]
    },
    {
     "name": "stderr",
     "output_type": "stream",
     "text": [
      "Accuracy: 0.4300: 100%|██████████| 100/100 [00:30<00:00,  3.32it/s]\n",
      "Accuracy: 0.4516:  62%|██████▏   | 62/100 [00:24<00:06,  5.79it/s]"
     ]
    },
    {
     "name": "stdout",
     "output_type": "stream",
     "text": [
      "Skip Test\n",
      "[Causal Validation] F1: 0.4187, Previous F1: 0.4872\n",
      "[Causal Validation CM]:\n",
      "[[ 2  7  8  1  0]\n",
      " [ 1  7 10  2  0]\n",
      " [ 0  3 11  8  0]\n",
      " [ 0  0  3 12  2]\n",
      " [ 0  0  3  9 11]]\n",
      "Skip Test\n",
      "\n",
      "Epoch 0, Step 2\n"
     ]
    },
    {
     "name": "stderr",
     "output_type": "stream",
     "text": [
      "Accuracy: 0.4400: 100%|██████████| 100/100 [00:50<00:00,  2.00it/s]\n"
     ]
    },
    {
     "name": "stdout",
     "output_type": "stream",
     "text": [
      "Skip Test\n",
      "[System Validation] F1: 0.4131, Previous F1: 0.4683\n",
      "[System Validation CM]:\n",
      "[[ 0  7  6  4  0]\n",
      " [ 0  8  9  3  0]\n",
      " [ 0  3  8  8  1]\n",
      " [ 0  0  3 12  2]\n",
      " [ 0  0  2  5 16]]\n"
     ]
    },
    {
     "name": "stderr",
     "output_type": "stream",
     "text": [
      "Accuracy: 0.4100: 100%|██████████| 100/100 [00:27<00:00,  3.68it/s]\n",
      "Accuracy: 0.4271:  96%|█████████▌| 96/100 [00:29<00:07,  1.89s/it]"
     ]
    },
    {
     "name": "stdout",
     "output_type": "stream",
     "text": [
      "Skip Test\n",
      "[System Validation] F1: 0.3814, Previous F1: 0.4790\n",
      "[System Validation CM]:\n",
      "[[ 0  9  9  0  0]\n",
      " [ 1  5 13  1  0]\n",
      " [ 0  4 11  7  0]\n",
      " [ 0  1  2 12  2]\n",
      " [ 0  0  2  8 13]]\n"
     ]
    },
    {
     "name": "stderr",
     "output_type": "stream",
     "text": [
      "Accuracy: 0.4300: 100%|██████████| 100/100 [00:37<00:00,  2.63it/s]\n",
      "3it [07:13, 149.12s/it]"
     ]
    },
    {
     "name": "stdout",
     "output_type": "stream",
     "text": [
      "Skip Test\n",
      "[Causal Validation] F1: 0.4049, Previous F1: 0.4683\n",
      "[Causal Validation CM]:\n",
      "[[ 2  5  8  2  0]\n",
      " [ 0  3 15  2  0]\n",
      " [ 0  2 15  4  1]\n",
      " [ 0  0  2 12  2]\n",
      " [ 0  1  1  9 11]]\n",
      "Skip Test\n",
      "\n",
      "Epoch 0, Step 3\n"
     ]
    },
    {
     "name": "stderr",
     "output_type": "stream",
     "text": [
      "Accuracy: 0.5000: 100%|██████████| 100/100 [00:24<00:00,  4.07it/s]\n"
     ]
    },
    {
     "name": "stdout",
     "output_type": "stream",
     "text": [
      "[System Validation] F1: 0.4926, Previous F1: 0.4872\n",
      "[System Validation CM]:\n",
      "[[ 4  9  4  0  1]\n",
      " [ 1 11  8  0  0]\n",
      " [ 0  3 13  4  2]\n",
      " [ 0  0  2 11  3]\n",
      " [ 0  0  2 10 11]]\n"
     ]
    },
    {
     "name": "stderr",
     "output_type": "stream",
     "text": [
      "Accuracy: 0.4900: 100%|██████████| 100/100 [00:21<00:00,  4.58it/s]\n",
      "3it [07:49, 151.88s/it]"
     ]
    },
    {
     "name": "stdout",
     "output_type": "stream",
     "text": [
      "Skip Test\n",
      "[Causal Validation] F1: 0.4720, Previous F1: 0.4790\n",
      "[Causal Validation CM]:\n",
      "[[ 1  9  7  1  0]\n",
      " [ 0 10  8  2  0]\n",
      " [ 0  2 12  8  0]\n",
      " [ 0  1  2 12  1]\n",
      " [ 0  0  2  6 14]]\n",
      "Skip Test\n",
      "\n",
      "Epoch 0, Step 3\n"
     ]
    },
    {
     "name": "stderr",
     "output_type": "stream",
     "text": [
      "Accuracy: 0.4700: 100%|██████████| 100/100 [00:25<00:00,  3.88it/s]\n"
     ]
    },
    {
     "name": "stdout",
     "output_type": "stream",
     "text": [
      "Skip Test\n",
      "[Causal Validation] F1: 0.4676, Previous F1: 0.4926\n",
      "[Causal Validation CM]:\n",
      "[[ 6  7  5  0  0]\n",
      " [ 7  6  5  2  0]\n",
      " [ 1  3  9  6  3]\n",
      " [ 0  1  3 10  3]\n",
      " [ 0  2  0  5 16]]\n"
     ]
    },
    {
     "name": "stderr",
     "output_type": "stream",
     "text": [
      "Accuracy: 0.3800: 100%|██████████| 100/100 [00:30<00:00,  3.33it/s]\n",
      "3it [08:43, 177.68s/it]"
     ]
    },
    {
     "name": "stdout",
     "output_type": "stream",
     "text": [
      "[Test Result] F1: 0.3585\n",
      "\n",
      "Epoch 0, Step 3\n"
     ]
    },
    {
     "name": "stderr",
     "output_type": "stream",
     "text": [
      "Accuracy: 0.4700: 100%|██████████| 100/100 [00:26<00:00,  3.77it/s]\n",
      "Accuracy: 0.5104:  96%|█████████▌| 96/100 [00:20<00:00,  4.33it/s]"
     ]
    },
    {
     "name": "stdout",
     "output_type": "stream",
     "text": [
      "[System Validation] F1: 0.4712, Previous F1: 0.4683\n",
      "[System Validation CM]:\n",
      "[[ 3  6  7  1  0]\n",
      " [ 0  9  7  3  0]\n",
      " [ 0  2 11  9  0]\n",
      " [ 0  0  3 10  4]\n",
      " [ 0  0  2  7 14]]\n"
     ]
    },
    {
     "name": "stderr",
     "output_type": "stream",
     "text": [
      "Accuracy: 0.5000: 100%|██████████| 100/100 [00:22<00:00,  4.40it/s]\n"
     ]
    },
    {
     "name": "stdout",
     "output_type": "stream",
     "text": [
      "Skip Test\n",
      "[System Validation] F1: 0.4628, Previous F1: 0.4790\n",
      "[System Validation CM]:\n",
      "[[ 0 10  6  2  0]\n",
      " [ 2 12  2  4  0]\n",
      " [ 0  2 13  5  2]\n",
      " [ 0  0  3 12  2]\n",
      " [ 0  0  2  8 13]]\n"
     ]
    },
    {
     "name": "stderr",
     "output_type": "stream",
     "text": [
      "Accuracy: 0.4900: 100%|██████████| 100/100 [00:22<00:00,  4.50it/s]\n",
      "4it [09:57, 142.28s/it]"
     ]
    },
    {
     "name": "stdout",
     "output_type": "stream",
     "text": [
      "Skip Test\n",
      "[Causal Validation] F1: 0.4725, Previous F1: 0.4790\n",
      "[Causal Validation CM]:\n",
      "[[ 2 11  4  1  0]\n",
      " [ 1 12  4  3  0]\n",
      " [ 1  3 10  6  1]\n",
      " [ 0  0  2 13  2]\n",
      " [ 0  0  2  9 12]]\n",
      "Skip Test\n",
      "\n",
      "Epoch 0, Step 4\n"
     ]
    },
    {
     "name": "stderr",
     "output_type": "stream",
     "text": [
      "Accuracy: 0.4700: 100%|██████████| 100/100 [00:26<00:00,  3.77it/s]\n"
     ]
    },
    {
     "name": "stdout",
     "output_type": "stream",
     "text": [
      "[Causal Validation] F1: 0.4723, Previous F1: 0.4712\n",
      "[Causal Validation CM]:\n",
      "[[ 4  5  6  3  0]\n",
      " [ 1  7  8  4  0]\n",
      " [ 1  1 11  9  0]\n",
      " [ 0  0  3 12  2]\n",
      " [ 0  0  2  8 13]]\n"
     ]
    },
    {
     "name": "stderr",
     "output_type": "stream",
     "text": [
      "Accuracy: 0.4300: 100%|██████████| 100/100 [00:19<00:00,  5.05it/s]\n",
      "4it [10:17, 162.93s/it]"
     ]
    },
    {
     "name": "stdout",
     "output_type": "stream",
     "text": [
      "[Test Result] F1: 0.3948\n",
      "\n",
      "Epoch 0, Step 4\n"
     ]
    },
    {
     "name": "stderr",
     "output_type": "stream",
     "text": [
      "Accuracy: 0.4000: 100%|██████████| 100/100 [00:25<00:00,  3.89it/s]\n"
     ]
    },
    {
     "name": "stdout",
     "output_type": "stream",
     "text": [
      "Skip Test\n",
      "[System Validation] F1: 0.3922, Previous F1: 0.4926\n",
      "[System Validation CM]:\n",
      "[[ 2  7  8  1  0]\n",
      " [ 3  7  7  3  0]\n",
      " [ 0  4 10  6  2]\n",
      " [ 0  0  3  9  4]\n",
      " [ 0  0  3  8 12]]\n"
     ]
    },
    {
     "name": "stderr",
     "output_type": "stream",
     "text": [
      "Accuracy: 0.4600: 100%|██████████| 100/100 [00:25<00:00,  3.97it/s]\n",
      "4it [10:57, 160.64s/it]"
     ]
    },
    {
     "name": "stdout",
     "output_type": "stream",
     "text": [
      "Skip Test\n",
      "[Causal Validation] F1: 0.4588, Previous F1: 0.4926\n",
      "[Causal Validation CM]:\n",
      "[[ 9  7  1  1  0]\n",
      " [ 5  8  4  3  0]\n",
      " [ 3  5  7  5  2]\n",
      " [ 0  0  5  6  6]\n",
      " [ 0  1  3  3 16]]\n",
      "Skip Test\n",
      "\n",
      "Epoch 0, Step 4\n"
     ]
    },
    {
     "name": "stderr",
     "output_type": "stream",
     "text": [
      "Accuracy: 0.4500: 100%|██████████| 100/100 [00:23<00:00,  4.30it/s]\n",
      "Accuracy: 0.0000:  98%|█████████▊| 98/100 [00:28<00:00,  3.77it/s]"
     ]
    },
    {
     "name": "stdout",
     "output_type": "stream",
     "text": [
      "Skip Test\n",
      "[System Validation] F1: 0.4319, Previous F1: 0.4723\n",
      "[System Validation CM]:\n",
      "[[ 2  7  8  1  0]\n",
      " [ 0 10  6  4  0]\n",
      " [ 0  4  6 11  1]\n",
      " [ 0  0  1 14  2]\n",
      " [ 0  0  1  9 13]]\n"
     ]
    },
    {
     "name": "stderr",
     "output_type": "stream",
     "text": [
      "Accuracy: 0.0000: 100%|██████████| 100/100 [00:29<00:00,  3.41it/s]\n"
     ]
    },
    {
     "name": "stdout",
     "output_type": "stream",
     "text": [
      "Skip Test\n",
      "[System Validation] F1: 0.0000, Previous F1: 0.4790\n",
      "[System Validation CM]:\n",
      "[[0 0 1 0 0]\n",
      " [0 0 0 0 0]\n",
      " [0 0 0 0 0]\n",
      " [0 0 0 0 0]\n",
      " [0 0 0 0 0]]\n"
     ]
    },
    {
     "name": "stderr",
     "output_type": "stream",
     "text": [
      "Accuracy: 0.4700: 100%|██████████| 100/100 [00:20<00:00,  4.79it/s]\n"
     ]
    },
    {
     "name": "stdout",
     "output_type": "stream",
     "text": [
      "Skip Test\n",
      "[System Validation] F1: 0.4525, Previous F1: 0.4926\n",
      "[System Validation CM]:\n",
      "[[ 1 12  4  1  0]\n",
      " [ 1 11  5  2  1]\n",
      " [ 0  3 11  6  1]\n",
      " [ 0  0  5 10  1]\n",
      " [ 0  1  1  7 14]]\n"
     ]
    },
    {
     "name": "stderr",
     "output_type": "stream",
     "text": [
      "Accuracy: 0.4500: 100%|██████████| 100/100 [00:22<00:00,  4.42it/s]\n",
      "5it [12:44, 157.03s/it]"
     ]
    },
    {
     "name": "stdout",
     "output_type": "stream",
     "text": [
      "Skip Test\n",
      "[Causal Validation] F1: 0.4281, Previous F1: 0.4723\n",
      "[Causal Validation CM]:\n",
      "[[ 3  7  6  2  0]\n",
      " [ 3  7  6  3  1]\n",
      " [ 1  2  8  8  3]\n",
      " [ 0  2  1  7  7]\n",
      " [ 0  0  2  1 20]]\n",
      "Skip Test\n",
      "\n",
      "Epoch 0, Step 5\n"
     ]
    },
    {
     "name": "stderr",
     "output_type": "stream",
     "text": [
      "Accuracy: 0.4900: 100%|██████████| 100/100 [00:25<00:00,  3.98it/s]\n",
      "5it [12:55, 155.25s/it]"
     ]
    },
    {
     "name": "stdout",
     "output_type": "stream",
     "text": [
      "Skip Test\n",
      "[Causal Validation] F1: 0.4662, Previous F1: 0.4790\n",
      "[Causal Validation CM]:\n",
      "[[ 2 10  4  2  0]\n",
      " [ 0 10  6  4  0]\n",
      " [ 0  2  8  9  3]\n",
      " [ 0  0  2 12  3]\n",
      " [ 0  0  2  4 17]]\n",
      "Skip Test\n",
      "\n",
      "Epoch 0, Step 5\n"
     ]
    },
    {
     "name": "stderr",
     "output_type": "stream",
     "text": [
      "Accuracy: 0.2800: 100%|██████████| 100/100 [00:24<00:00,  4.13it/s]\n",
      "5it [13:31, 158.17s/it]"
     ]
    },
    {
     "name": "stdout",
     "output_type": "stream",
     "text": [
      "Skip Test\n",
      "[Causal Validation] F1: 0.2168, Previous F1: 0.4926\n",
      "[Causal Validation CM]:\n",
      "[[ 1 17  0  0  0]\n",
      " [ 0 19  0  0  0]\n",
      " [ 0 21  0  1  0]\n",
      " [ 0 15  0  2  0]\n",
      " [ 0 12  0  3  6]]\n",
      "Skip Test\n",
      "\n",
      "Epoch 0, Step 5\n"
     ]
    },
    {
     "name": "stderr",
     "output_type": "stream",
     "text": [
      "Accuracy: 0.4500: 100%|██████████| 100/100 [00:25<00:00,  3.97it/s]\n"
     ]
    },
    {
     "name": "stdout",
     "output_type": "stream",
     "text": [
      "Skip Test\n",
      "[System Validation] F1: 0.4471, Previous F1: 0.4723\n",
      "[System Validation CM]:\n",
      "[[ 3 12  3  0  0]\n",
      " [ 0 10  8  2  0]\n",
      " [ 0  3  9  9  1]\n",
      " [ 0  0  1 12  2]\n",
      " [ 0  0  1 11 11]]\n"
     ]
    },
    {
     "name": "stderr",
     "output_type": "stream",
     "text": [
      "Accuracy: 0.3700: 100%|██████████| 100/100 [00:30<00:00,  3.28it/s]\n"
     ]
    },
    {
     "name": "stdout",
     "output_type": "stream",
     "text": [
      "Skip Test\n",
      "[System Validation] F1: 0.3519, Previous F1: 0.4790\n",
      "[System Validation CM]:\n",
      "[[ 1  9  6  2  0]\n",
      " [ 0  7 10  3  0]\n",
      " [ 0  4  6 10  1]\n",
      " [ 0  0  1 11  5]\n",
      " [ 0  0  3  8 12]]\n"
     ]
    },
    {
     "name": "stderr",
     "output_type": "stream",
     "text": [
      "Accuracy: 0.5200: 100%|██████████| 100/100 [00:31<00:00,  3.18it/s]\n",
      "Accuracy: 0.1964:  56%|█████▌    | 56/100 [00:18<00:04,  9.16it/s]"
     ]
    },
    {
     "name": "stdout",
     "output_type": "stream",
     "text": [
      "[System Validation] F1: 0.5121, Previous F1: 0.4926\n",
      "[System Validation CM]:\n",
      "[[ 3 11  3  1  0]\n",
      " [ 1  9  9  1  0]\n",
      " [ 0  3 12  7  0]\n",
      " [ 0  1  1 14  1]\n",
      " [ 0  1  2  5 14]]\n"
     ]
    },
    {
     "name": "stderr",
     "output_type": "stream",
     "text": [
      "Accuracy: 0.2000: 100%|██████████| 100/100 [00:24<00:00,  4.00it/s]\n",
      "5it [15:23, 184.64s/it]\n"
     ]
    },
    {
     "name": "stdout",
     "output_type": "stream",
     "text": [
      "Skip Test\n",
      "[Causal Validation] F1: 0.1035, Previous F1: 0.4723\n",
      "[Causal Validation CM]:\n",
      "[[ 0  0  3 15  0]\n",
      " [ 0  1  1 18  0]\n",
      " [ 0  0  2 19  0]\n",
      " [ 0  0  0 17  0]\n",
      " [ 0  0  0 23  0]]\n",
      "Skip Test\n",
      "[Worker 0] [Iteration 1] val_best=0.4723, test_at_best=0.3948\n",
      "[Main] Worker 0 done. Best test_f1=0.3948\n"
     ]
    },
    {
     "name": "stderr",
     "output_type": "stream",
     "text": [
      "Accuracy: 0.3800: 100%|██████████| 100/100 [00:28<00:00,  3.51it/s]\n",
      "5it [15:48, 189.70s/it]\n"
     ]
    },
    {
     "name": "stdout",
     "output_type": "stream",
     "text": [
      "Skip Test\n",
      "[Causal Validation] F1: 0.3797, Previous F1: 0.4790\n",
      "[Causal Validation CM]:\n",
      "[[ 2  5  8  3  0]\n",
      " [ 1  6  6  6  0]\n",
      " [ 0  0 10 11  0]\n",
      " [ 0  0  1 11  4]\n",
      " [ 0  0  1 13  9]]\n",
      "Skip Test\n",
      "[Worker 2] [Iteration 1] val_best=0.4790, test_at_best=0.3141\n",
      "[Main] Worker 2 done. Best test_f1=0.3141\n"
     ]
    },
    {
     "name": "stderr",
     "output_type": "stream",
     "text": [
      "Accuracy: 0.4500: 100%|██████████| 100/100 [00:29<00:00,  3.39it/s]\n"
     ]
    },
    {
     "name": "stdout",
     "output_type": "stream",
     "text": [
      "Skip Test\n",
      "[Causal Validation] F1: 0.4472, Previous F1: 0.5121\n",
      "[Causal Validation CM]:\n",
      "[[ 3 13  0  1  0]\n",
      " [ 2 10  4  4  0]\n",
      " [ 0  5  8  9  0]\n",
      " [ 0  0  2 11  4]\n",
      " [ 0  0  2  8 13]]\n"
     ]
    },
    {
     "name": "stderr",
     "output_type": "stream",
     "text": [
      "Accuracy: 0.4100: 100%|██████████| 100/100 [00:32<00:00,  3.08it/s]\n",
      "5it [16:33, 198.76s/it]"
     ]
    },
    {
     "name": "stdout",
     "output_type": "stream",
     "text": [
      "[Test Result] F1: 0.3880\n",
      "[Worker 1] [Iteration 1] val_best=0.5121, test_at_best=0.3880\n",
      "[Main] Worker 1 done. Best test_f1=0.3880\n",
      "EGO_res (best test F1 per worker): [0.394791520401759, 0.3141095077981786, 0.3879919437062294]\n"
     ]
    },
    {
     "name": "stderr",
     "output_type": "stream",
     "text": [
      "\n"
     ]
    }
   ],
   "source": [
    "NUM_WORKERS = 3\n",
    "ITERS = 1\n",
    "total_steps=5\n",
    "batch_size=3\n",
    "\n",
    "EGO_res = []\n",
    "\n",
    "with ThreadPoolExecutor(max_workers=NUM_WORKERS) as ex:\n",
    "    futures = [ex.submit(run_one_worker, i) for i in range(NUM_WORKERS)]\n",
    "    for fut in as_completed(futures):\n",
    "        res = fut.result()\n",
    "        EGO_res.append(res['best_test_f1'])\n",
    "        print(f\"[Main] Worker {res['worker_id']} done. Best test_f1={res['best_test_f1']:.4f}\")\n",
    "\n",
    "print(\"EGO_res (best test F1 per worker):\", EGO_res)"
   ]
  }
 ],
 "metadata": {
  "kernelspec": {
   "display_name": "ego1",
   "language": "python",
   "name": "python3"
  },
  "language_info": {
   "codemirror_mode": {
    "name": "ipython",
    "version": 3
   },
   "file_extension": ".py",
   "mimetype": "text/x-python",
   "name": "python",
   "nbconvert_exporter": "python",
   "pygments_lexer": "ipython3",
   "version": "3.11.13"
  }
 },
 "nbformat": 4,
 "nbformat_minor": 4
}
