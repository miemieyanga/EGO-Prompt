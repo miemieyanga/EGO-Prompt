{
 "cells": [
  {
   "cell_type": "markdown",
   "metadata": {},
   "source": [
    "# Task Settings"
   ]
  },
  {
   "cell_type": "code",
   "execution_count": 1,
   "metadata": {},
   "outputs": [],
   "source": [
    "import os\n",
    "os.environ['OPENAI_API_KEY']=\"YOUR_API_KEY\"\n",
    "\n",
    "\n",
    "from utils import *\n",
    "from prompts import Prompts, TASK_LABLES, TAGS\n",
    "\n",
    "dataset_name = 'trafficsafe'                   # 'trafficsafe', 'swiss'\n",
    "test_model = \"experimental:gpt-4o-mini\"     # Forward Engine\n",
    "eval_model = \"gpt-4o\"                       # Backward Engine\n",
    "iteration = 1\n",
    "date = '0919'\n",
    "total_steps=9                               # 5-11\n",
    "epoch=1                                     # 2, 1\n",
    "batch_size=3                                # 1-3"
   ]
  },
  {
   "cell_type": "markdown",
   "metadata": {},
   "source": [
    "# Initialize"
   ]
  },
  {
   "cell_type": "code",
   "execution_count": 2,
   "metadata": {},
   "outputs": [
    {
     "name": "stdout",
     "output_type": "stream",
     "text": [
      "Train/Val/Test Set Lengths:  100 100 100\n"
     ]
    }
   ],
   "source": [
    "cm_labels = TASK_LABLES[dataset_name]\n",
    "tags = TAGS[dataset_name]\n",
    "CAUSAL_SYSTEM = Prompts[dataset_name]['CAUSAL_SYSTEM']\n",
    "CAUSAL_SYSTEM_CONSTRAINT = Prompts[dataset_name]['CAUSAL_SYSTEM_CONSTRAINT']\n",
    "SYSTEM = Prompts[dataset_name]['SYSTEM']\n",
    "\n",
    "llm_api_eval = tg.get_engine(engine_name=eval_model)\n",
    "llm_api_test = tg.get_engine(engine_name=test_model, cache=False)\n",
    "tg.set_backward_engine(llm_api_eval, override=True)\n",
    "\n",
    "train_set, val_set, test_set_ori, eval_fn = load_task(dataset_name, evaluation_api=llm_api_eval, prompt_col=\"organized_prompt\")\n",
    "train_loader = tg.tasks.DataLoader(train_set, batch_size=batch_size, shuffle=True)\n",
    "col = \"organized_prompt\" if dataset_name == 'swiss' else \"prompt\"\n",
    "train_set.data[col] = train_set.data[col].apply(lambda x: f\"{tags[0]}{x}{tags[1]}\")\n",
    "val_set.data[col] = val_set.data[col].apply(lambda x: f\"{tags[0]}{x}{tags[1]}\")\n",
    "test_set_ori.data[col] = test_set_ori.data[col].apply(lambda x: f\"{tags[0]}{x}{tags[1]}\")\n",
    "print(\"Train/Val/Test Set Lengths: \", len(train_set), len(val_set), len(test_set_ori))"
   ]
  },
  {
   "cell_type": "code",
   "execution_count": 3,
   "metadata": {},
   "outputs": [],
   "source": [
    "import matplotlib.pyplot as plt\n",
    "from copy import deepcopy\n",
    "\n",
    "res = []\n",
    "\n",
    "test_set = deepcopy(test_set_ori)\n",
    "system_prompt, causal_prompt, model, causal_model, optimizer, optimizer_causal = init(SYSTEM, CAUSAL_SYSTEM, llm_api_test, llm_api_eval, CAUSAL_SYSTEM_CONSTRAINT)\n",
    "results = {\"test_f1\": [], \"prompt\": [], \"validation_f1\": [], 'system_prompt':[], 'causal_prompt': []}"
   ]
  },
  {
   "cell_type": "markdown",
   "metadata": {},
   "source": [
    "# Run EGO-Prompt"
   ]
  },
  {
   "cell_type": "code",
   "execution_count": 4,
   "metadata": {},
   "outputs": [],
   "source": [
    "import time\n",
    "import copy\n",
    "import numpy as np\n",
    "from concurrent.futures import ThreadPoolExecutor, as_completed\n",
    "\n",
    "def run_one_worker(worker_id: int):\n",
    "    \n",
    "    local_test_set = copy.deepcopy(test_set)\n",
    "    local_test_set_ori = copy.deepcopy(test_set_ori)\n",
    "    local_val_set = copy.deepcopy(val_set)\n",
    "    local_train_loader = train_loader\n",
    "\n",
    "    val_performance = -float('inf')\n",
    "    test_performance = -float('inf')\n",
    "    final_results = None\n",
    "    all_val_f1s = []\n",
    "    all_test_f1s = []\n",
    "\n",
    "    local_test_set.data[col] = local_test_set_ori.data[col].apply(\n",
    "        lambda x: f\"<!-- {time.time()} (w{worker_id}) -->, {x}\"\n",
    "    )\n",
    "\n",
    "    for cur_iter in range(iteration):\n",
    "        print(f\"[Worker {worker_id}] [Iteration {cur_iter+1}/{iteration}] begin\")\n",
    "        output_json = (\n",
    "            f\"res/{date}_{dataset_name}_{test_model.split('/')[-1].split(':')[-1]}_\"\n",
    "            f\"w{worker_id}_it{cur_iter+1}.json\"\n",
    "        )\n",
    "        initialize_json_file(output_json)\n",
    "\n",
    "        system_prompt, causal_prompt, model, causal_model, optimizer, optimizer_causal = init(\n",
    "            SYSTEM, CAUSAL_SYSTEM, llm_api_test, llm_api_eval, CAUSAL_SYSTEM_CONSTRAINT\n",
    "        )\n",
    "\n",
    "        results, test_res, val_res = init_eval(\n",
    "            local_val_set, local_test_set, eval_fn, model, causal_model,\n",
    "            system_prompt, causal_prompt, cm_labels, iters=ITERS    \n",
    "        )\n",
    "\n",
    "        results = run_training(\n",
    "            local_train_loader, local_val_set, local_test_set, eval_fn,\n",
    "            model, causal_model, system_prompt, causal_prompt,\n",
    "            optimizer, optimizer_causal, results, cm_labels,\n",
    "            output_json=output_json, epoch=epoch, steps=total_steps, iters=ITERS\n",
    "        )\n",
    "\n",
    "        all_val_f1s.append(results['validation_f1'])\n",
    "        all_test_f1s.append(results['test_f1'])\n",
    "\n",
    "        cur_val = results['validation_f1'][-1]\n",
    "        cur_test = results['test_f1'][-1]\n",
    "        if cur_val > val_performance:\n",
    "            val_performance = cur_val\n",
    "            test_performance = cur_test\n",
    "            final_results = results\n",
    "\n",
    "        print(f\"[Worker {worker_id}] [Iteration {cur_iter+1}] \"\n",
    "              f\"val_best={val_performance:.4f}, test_at_best={test_performance:.4f}\")\n",
    "\n",
    "    return {\n",
    "        'best_test_f1': test_performance,\n",
    "        'val_f1s': all_val_f1s,\n",
    "        'test_f1s': all_test_f1s,\n",
    "        'worker_id': worker_id,\n",
    "    }\n"
   ]
  },
  {
   "cell_type": "markdown",
   "metadata": {},
   "source": [
    "# Running the cell below will incur API usage charges. Refer to our paper for detailed cost"
   ]
  },
  {
   "cell_type": "code",
   "execution_count": 5,
   "metadata": {},
   "outputs": [
    {
     "name": "stdout",
     "output_type": "stream",
     "text": [
      "[Worker 0] [Iteration 1/1] begin\n",
      "[Worker 2] [Iteration 1/1] begin\n",
      "[Worker 1] [Iteration 1/1] begin\n"
     ]
    },
    {
     "name": "stderr",
     "output_type": "stream",
     "text": [
      "Accuracy: 0.3000: 100%|██████████| 100/100 [00:22<00:00,  4.42it/s]\n",
      "Accuracy: 0.3000: 100%|██████████| 100/100 [00:22<00:00,  4.41it/s]\n",
      "Accuracy: 0.2500: 100%|██████████| 100/100 [00:28<00:00,  3.51it/s]\n",
      "Accuracy: 0.2600: 100%|██████████| 100/100 [00:20<00:00,  4.83it/s]\n"
     ]
    },
    {
     "name": "stdout",
     "output_type": "stream",
     "text": [
      "SCG_val_f1: 0.1821413043478261, SCG_test_f1:0.21471328825114078\n"
     ]
    },
    {
     "name": "stderr",
     "output_type": "stream",
     "text": [
      "Accuracy: 0.2987:  75%|███████▌  | 75/100 [00:15<00:02,  9.26it/s]"
     ]
    },
    {
     "name": "stdout",
     "output_type": "stream",
     "text": [
      "\n",
      "Epoch 0, Step 0\n"
     ]
    },
    {
     "name": "stderr",
     "output_type": "stream",
     "text": [
      "Accuracy: 0.2700: 100%|██████████| 100/100 [00:22<00:00,  4.40it/s]\n"
     ]
    },
    {
     "name": "stdout",
     "output_type": "stream",
     "text": [
      "SCG_val_f1: 0.2005776843146957, SCG_test_f1:0.17242979242979242\n"
     ]
    },
    {
     "name": "stderr",
     "output_type": "stream",
     "text": [
      "0it [00:00, ?it/s]"
     ]
    },
    {
     "name": "stdout",
     "output_type": "stream",
     "text": [
      "\n",
      "Epoch 0, Step 0\n"
     ]
    },
    {
     "name": "stderr",
     "output_type": "stream",
     "text": [
      "Accuracy: 0.2900: 100%|██████████| 100/100 [00:29<00:00,  3.42it/s]\n"
     ]
    },
    {
     "name": "stdout",
     "output_type": "stream",
     "text": [
      "SCG_val_f1: 0.23078582364786895, SCG_test_f1:0.212860932171277\n"
     ]
    },
    {
     "name": "stderr",
     "output_type": "stream",
     "text": [
      "0it [00:00, ?it/s]"
     ]
    },
    {
     "name": "stdout",
     "output_type": "stream",
     "text": [
      "\n",
      "Epoch 0, Step 0\n"
     ]
    },
    {
     "name": "stderr",
     "output_type": "stream",
     "text": [
      "Accuracy: 0.2800: 100%|██████████| 100/100 [00:15<00:00,  6.48it/s]\n"
     ]
    },
    {
     "name": "stdout",
     "output_type": "stream",
     "text": [
      "[System Validation] F1: 0.2797, Previous F1: 0.2006\n",
      "[System Validation CM]:\n",
      "[[ 2  9 12  0]\n",
      " [ 3  5 13  1]\n",
      " [ 2  4 10  8]\n",
      " [ 2  2 15 11]]\n"
     ]
    },
    {
     "name": "stderr",
     "output_type": "stream",
     "text": [
      "Accuracy: 0.2400: 100%|██████████| 100/100 [00:20<00:00,  4.90it/s]\n"
     ]
    },
    {
     "name": "stdout",
     "output_type": "stream",
     "text": [
      "Skip Test\n",
      "[System Validation] F1: 0.1462, Previous F1: 0.1821\n",
      "[System Validation CM]:\n",
      "[[ 1  5 16  0]\n",
      " [ 0  3 19  0]\n",
      " [ 1  2 20  0]\n",
      " [ 1  2 28  0]]\n"
     ]
    },
    {
     "name": "stderr",
     "output_type": "stream",
     "text": [
      "Accuracy: 0.2900: 100%|██████████| 100/100 [00:10<00:00,  9.13it/s]\n"
     ]
    },
    {
     "name": "stdout",
     "output_type": "stream",
     "text": [
      "Skip Test\n",
      "[Causal Validation] F1: 0.2553, Previous F1: 0.2797\n",
      "[Causal Validation CM]:\n",
      "[[ 0  5 17  1]\n",
      " [ 0  8 11  3]\n",
      " [ 0  4 13  7]\n",
      " [ 1  5 17  8]]\n"
     ]
    },
    {
     "name": "stderr",
     "output_type": "stream",
     "text": [
      "Accuracy: 0.2800: 100%|██████████| 100/100 [00:20<00:00,  4.90it/s]\n",
      "Accuracy: 0.2700: 100%|██████████| 100/100 [00:17<00:00,  5.60it/s]\n",
      "Accuracy: 0.3152:  90%|█████████ | 90/100 [00:15<00:01,  7.04it/s]"
     ]
    },
    {
     "name": "stdout",
     "output_type": "stream",
     "text": [
      "Skip Test\n",
      "[System Validation] F1: 0.1790, Previous F1: 0.2308\n",
      "[System Validation CM]:\n",
      "[[ 0 17  6  0]\n",
      " [ 0 13  9  0]\n",
      " [ 1  8 15  0]\n",
      " [ 1 10 20  0]]\n",
      "[Test Result] F1: 0.2461\n",
      "\n",
      "Epoch 0, Step 1\n"
     ]
    },
    {
     "name": "stderr",
     "output_type": "stream",
     "text": [
      "Accuracy: 0.3200: 100%|██████████| 100/100 [00:19<00:00,  5.12it/s]\n"
     ]
    },
    {
     "name": "stdout",
     "output_type": "stream",
     "text": [
      "[Causal Validation] F1: 0.2501, Previous F1: 0.1821\n",
      "[Causal Validation CM]:\n",
      "[[ 5 10  8  0]\n",
      " [ 4 13  5  0]\n",
      " [ 2  8 14  0]\n",
      " [ 5  9 17  0]]\n"
     ]
    },
    {
     "name": "stderr",
     "output_type": "stream",
     "text": [
      "Accuracy: 0.3300: 100%|██████████| 100/100 [00:16<00:00,  6.08it/s]\n",
      "1it [03:59, 239.55s/it]"
     ]
    },
    {
     "name": "stdout",
     "output_type": "stream",
     "text": [
      "[Test Result] F1: 0.2636\n",
      "\n",
      "Epoch 0, Step 1\n"
     ]
    },
    {
     "name": "stderr",
     "output_type": "stream",
     "text": [
      "Accuracy: 0.2600: 100%|██████████| 100/100 [00:21<00:00,  4.75it/s]\n",
      "1it [04:04, 244.48s/it]"
     ]
    },
    {
     "name": "stdout",
     "output_type": "stream",
     "text": [
      "Skip Test\n",
      "[Causal Validation] F1: 0.2259, Previous F1: 0.2308\n",
      "[Causal Validation CM]:\n",
      "[[10 10  1  0]\n",
      " [ 8  9  5  0]\n",
      " [ 6 12  6  0]\n",
      " [ 7  7 16  1]]\n",
      "Skip Test\n",
      "\n",
      "Epoch 0, Step 1\n"
     ]
    },
    {
     "name": "stderr",
     "output_type": "stream",
     "text": [
      "Accuracy: 0.2900: 100%|██████████| 100/100 [00:13<00:00,  7.25it/s]\n"
     ]
    },
    {
     "name": "stdout",
     "output_type": "stream",
     "text": [
      "Skip Test\n",
      "[System Validation] F1: 0.2759, Previous F1: 0.2797\n",
      "[System Validation CM]:\n",
      "[[ 1 12  9  1]\n",
      " [ 1  6 12  3]\n",
      " [ 3  4 11  6]\n",
      " [ 0  7 13 11]]\n"
     ]
    },
    {
     "name": "stderr",
     "output_type": "stream",
     "text": [
      "Accuracy: 0.2600: 100%|██████████| 100/100 [00:21<00:00,  4.76it/s]\n",
      "Accuracy: 0.3000:  57%|█████▋    | 57/100 [00:07<00:01, 28.74it/s]"
     ]
    },
    {
     "name": "stdout",
     "output_type": "stream",
     "text": [
      "Skip Test\n",
      "[System Validation] F1: 0.2063, Previous F1: 0.2308\n",
      "[System Validation CM]:\n",
      "[[ 1 17  3  2]\n",
      " [ 0 11 11  0]\n",
      " [ 0 10 12  2]\n",
      " [ 0 13 16  2]]\n"
     ]
    },
    {
     "name": "stderr",
     "output_type": "stream",
     "text": [
      "Accuracy: 0.2800: 100%|██████████| 100/100 [00:24<00:00,  4.01it/s]\n",
      "2it [07:18, 220.69s/it]          | 1/100 [00:04<07:39,  4.64s/it]"
     ]
    },
    {
     "name": "stdout",
     "output_type": "stream",
     "text": [
      "Skip Test\n",
      "[Causal Validation] F1: 0.2710, Previous F1: 0.2797\n",
      "[Causal Validation CM]:\n",
      "[[ 5 18  0  0]\n",
      " [ 5 13  3  1]\n",
      " [ 2 15  5  2]\n",
      " [ 0 17  9  5]]\n",
      "Skip Test\n",
      "\n",
      "Epoch 0, Step 2\n"
     ]
    },
    {
     "name": "stderr",
     "output_type": "stream",
     "text": [
      "Accuracy: 0.1900: 100%|██████████| 100/100 [00:55<00:00,  1.79it/s]\n"
     ]
    },
    {
     "name": "stdout",
     "output_type": "stream",
     "text": [
      "Skip Test\n",
      "[System Validation] F1: 0.1449, Previous F1: 0.2501\n",
      "[System Validation CM]:\n",
      "[[ 2 17  4  0]\n",
      " [ 5  8  9  0]\n",
      " [ 1 14  9  0]\n",
      " [ 1 13 17  0]]\n"
     ]
    },
    {
     "name": "stderr",
     "output_type": "stream",
     "text": [
      "Accuracy: 0.2900: 100%|██████████| 100/100 [00:18<00:00,  5.27it/s]\n",
      "2it [07:31, 222.32s/it]"
     ]
    },
    {
     "name": "stdout",
     "output_type": "stream",
     "text": [
      "Skip Test\n",
      "[Causal Validation] F1: 0.2045, Previous F1: 0.2308\n",
      "[Causal Validation CM]:\n",
      "[[ 2 10 10  1]\n",
      " [ 2  8 12  0]\n",
      " [ 1  4 19  0]\n",
      " [ 2  7 22  0]]\n",
      "Skip Test\n",
      "\n",
      "Epoch 0, Step 2\n"
     ]
    },
    {
     "name": "stderr",
     "output_type": "stream",
     "text": [
      "Accuracy: 0.2800: 100%|██████████| 100/100 [00:30<00:00,  3.29it/s]\n",
      "2it [08:23, 254.00s/it]"
     ]
    },
    {
     "name": "stdout",
     "output_type": "stream",
     "text": [
      "Skip Test\n",
      "[Causal Validation] F1: 0.2373, Previous F1: 0.2501\n",
      "[Causal Validation CM]:\n",
      "[[ 8 12  3  0]\n",
      " [ 5  9  8  0]\n",
      " [ 3 10 11  0]\n",
      " [ 0 14 17  0]]\n",
      "Skip Test\n",
      "\n",
      "Epoch 0, Step 2\n"
     ]
    },
    {
     "name": "stderr",
     "output_type": "stream",
     "text": [
      "Accuracy: 0.2800: 100%|██████████| 100/100 [00:17<00:00,  5.84it/s]\n"
     ]
    },
    {
     "name": "stdout",
     "output_type": "stream",
     "text": [
      "Skip Test\n",
      "[System Validation] F1: 0.2678, Previous F1: 0.2797\n",
      "[System Validation CM]:\n",
      "[[ 1 15  6  1]\n",
      " [ 1 10 10  1]\n",
      " [ 1 10  8  5]\n",
      " [ 2 13  7  9]]\n"
     ]
    },
    {
     "name": "stderr",
     "output_type": "stream",
     "text": [
      "Accuracy: 0.3200: 100%|██████████| 100/100 [00:08<00:00, 11.50it/s]\n"
     ]
    },
    {
     "name": "stdout",
     "output_type": "stream",
     "text": [
      "[Causal Validation] F1: 0.2970, Previous F1: 0.2797\n",
      "[Causal Validation CM]:\n",
      "[[ 1 13  9  0]\n",
      " [ 2 11  9  0]\n",
      " [ 2  3 11  8]\n",
      " [ 1  8 13  9]]\n"
     ]
    },
    {
     "name": "stderr",
     "output_type": "stream",
     "text": [
      "Accuracy: 0.3300: 100%|██████████| 100/100 [00:09<00:00, 10.03it/s]\n",
      "3it [10:09, 198.15s/it]"
     ]
    },
    {
     "name": "stdout",
     "output_type": "stream",
     "text": [
      "[Test Result] F1: 0.2876\n",
      "\n",
      "Epoch 0, Step 3\n"
     ]
    },
    {
     "name": "stderr",
     "output_type": "stream",
     "text": [
      "Accuracy: 0.2500: 100%|██████████| 100/100 [00:25<00:00,  3.85it/s]\n"
     ]
    },
    {
     "name": "stdout",
     "output_type": "stream",
     "text": [
      "Skip Test\n",
      "[System Validation] F1: 0.1498, Previous F1: 0.2308\n",
      "[System Validation CM]:\n",
      "[[ 0 12 11  0]\n",
      " [ 1  6 15  0]\n",
      " [ 0  5 19  0]\n",
      " [ 1  5 25  0]]\n"
     ]
    },
    {
     "name": "stderr",
     "output_type": "stream",
     "text": [
      "Accuracy: 0.2400: 100%|██████████| 100/100 [00:22<00:00,  4.52it/s]\n"
     ]
    },
    {
     "name": "stdout",
     "output_type": "stream",
     "text": [
      "Skip Test\n",
      "[System Validation] F1: 0.1814, Previous F1: 0.2501\n",
      "[System Validation CM]:\n",
      "[[ 2 18  2  0]\n",
      " [ 5 12  5  0]\n",
      " [ 2 12 10  0]\n",
      " [ 4 13 14  0]]\n"
     ]
    },
    {
     "name": "stderr",
     "output_type": "stream",
     "text": [
      "Accuracy: 0.2400: 100%|██████████| 100/100 [00:19<00:00,  5.04it/s]\n",
      "3it [11:18, 224.58s/it]"
     ]
    },
    {
     "name": "stdout",
     "output_type": "stream",
     "text": [
      "Skip Test\n",
      "[Causal Validation] F1: 0.1812, Previous F1: 0.2308\n",
      "[Causal Validation CM]:\n",
      "[[ 2 12  9  0]\n",
      " [ 2  5 15  0]\n",
      " [ 1  7 16  0]\n",
      " [ 2  3 25  1]]\n",
      "Skip Test\n",
      "\n",
      "Epoch 0, Step 3\n"
     ]
    },
    {
     "name": "stderr",
     "output_type": "stream",
     "text": [
      "Accuracy: 0.2800: 100%|██████████| 100/100 [00:19<00:00,  5.04it/s]\n",
      "3it [11:59, 236.65s/it]"
     ]
    },
    {
     "name": "stdout",
     "output_type": "stream",
     "text": [
      "Skip Test\n",
      "[Causal Validation] F1: 0.2257, Previous F1: 0.2501\n",
      "[Causal Validation CM]:\n",
      "[[ 6 11  6  0]\n",
      " [ 3  9 10  0]\n",
      " [ 3  8 13  0]\n",
      " [ 4  8 19  0]]\n",
      "Skip Test\n",
      "\n",
      "Epoch 0, Step 3\n"
     ]
    },
    {
     "name": "stderr",
     "output_type": "stream",
     "text": [
      "Accuracy: 0.3200: 100%|██████████| 100/100 [00:16<00:00,  6.24it/s]\n"
     ]
    },
    {
     "name": "stdout",
     "output_type": "stream",
     "text": [
      "[System Validation] F1: 0.3058, Previous F1: 0.2970\n",
      "[System Validation CM]:\n",
      "[[ 3 11  7  2]\n",
      " [ 0 12  7  3]\n",
      " [ 1  9  9  5]\n",
      " [ 2 10 11  8]]\n"
     ]
    },
    {
     "name": "stderr",
     "output_type": "stream",
     "text": [
      "Accuracy: 0.3400: 100%|██████████| 100/100 [00:13<00:00,  7.67it/s]\n"
     ]
    },
    {
     "name": "stdout",
     "output_type": "stream",
     "text": [
      "[Causal Validation] F1: 0.3178, Previous F1: 0.3058\n",
      "[Causal Validation CM]:\n",
      "[[ 2 13  6  2]\n",
      " [ 0 11  8  3]\n",
      " [ 1  6 12  5]\n",
      " [ 0  9 13  9]]\n"
     ]
    },
    {
     "name": "stderr",
     "output_type": "stream",
     "text": [
      "Accuracy: 0.3500: 100%|██████████| 100/100 [00:13<00:00,  7.48it/s]\n",
      "4it [13:07, 189.98s/it]"
     ]
    },
    {
     "name": "stdout",
     "output_type": "stream",
     "text": [
      "[Test Result] F1: 0.2948\n",
      "\n",
      "Epoch 0, Step 4\n"
     ]
    },
    {
     "name": "stderr",
     "output_type": "stream",
     "text": [
      "Accuracy: 0.2900: 100%|██████████| 100/100 [00:22<00:00,  4.50it/s]\n"
     ]
    },
    {
     "name": "stdout",
     "output_type": "stream",
     "text": [
      "[System Validation] F1: 0.2340, Previous F1: 0.2308\n",
      "[System Validation CM]:\n",
      "[[ 2  8 13  0]\n",
      " [ 0  8 14  0]\n",
      " [ 1  5 17  0]\n",
      " [ 2  6 21  2]]\n"
     ]
    },
    {
     "name": "stderr",
     "output_type": "stream",
     "text": [
      "Accuracy: 0.3000: 100%|██████████| 100/100 [00:26<00:00,  3.81it/s]\n"
     ]
    },
    {
     "name": "stdout",
     "output_type": "stream",
     "text": [
      "[System Validation] F1: 0.2507, Previous F1: 0.2501\n",
      "[System Validation CM]:\n",
      "[[ 5 13  5  0]\n",
      " [ 5  9  8  0]\n",
      " [ 4  5 15  0]\n",
      " [ 1 12 16  1]]\n"
     ]
    },
    {
     "name": "stderr",
     "output_type": "stream",
     "text": [
      "Accuracy: 0.2700: 100%|██████████| 100/100 [00:19<00:00,  5.05it/s]\n"
     ]
    },
    {
     "name": "stdout",
     "output_type": "stream",
     "text": [
      "Skip Test\n",
      "[Causal Validation] F1: 0.1927, Previous F1: 0.2340\n",
      "[Causal Validation CM]:\n",
      "[[ 0 10 13  0]\n",
      " [ 1  9 11  0]\n",
      " [ 1  4 17  1]\n",
      " [ 1  2 26  1]]\n"
     ]
    },
    {
     "name": "stderr",
     "output_type": "stream",
     "text": [
      "Accuracy: 0.2900: 100%|██████████| 100/100 [00:20<00:00,  4.81it/s]\n",
      "Accuracy: 0.3725:  50%|█████     | 50/100 [00:07<00:01, 25.58it/s]"
     ]
    },
    {
     "name": "stdout",
     "output_type": "stream",
     "text": [
      "[Test Result] F1: 0.2060\n",
      "\n",
      "Epoch 0, Step 4\n"
     ]
    },
    {
     "name": "stderr",
     "output_type": "stream",
     "text": [
      "Accuracy: 0.3000: 100%|██████████| 100/100 [00:19<00:00,  5.22it/s]\n",
      "Accuracy: 0.3729:  59%|█████▉    | 59/100 [00:07<00:02, 19.68it/s]"
     ]
    },
    {
     "name": "stdout",
     "output_type": "stream",
     "text": [
      "[Causal Validation] F1: 0.2844, Previous F1: 0.2507\n",
      "[Causal Validation CM]:\n",
      "[[ 5 11  7  0]\n",
      " [ 2  9 10  0]\n",
      " [ 4  7 12  1]\n",
      " [ 3  5 19  4]]\n"
     ]
    },
    {
     "name": "stderr",
     "output_type": "stream",
     "text": [
      "Accuracy: 0.2900: 100%|██████████| 100/100 [00:12<00:00,  8.17it/s]\n"
     ]
    },
    {
     "name": "stdout",
     "output_type": "stream",
     "text": [
      "Skip Test\n",
      "[System Validation] F1: 0.2755, Previous F1: 0.3178\n",
      "[System Validation CM]:\n",
      "[[ 1 10 12  0]\n",
      " [ 1  8 13  0]\n",
      " [ 0  9 12  3]\n",
      " [ 1  3 19  8]]\n"
     ]
    },
    {
     "name": "stderr",
     "output_type": "stream",
     "text": [
      "Accuracy: 0.2600: 100%|██████████| 100/100 [00:20<00:00,  4.96it/s]\n",
      "4it [15:47, 232.99s/it]"
     ]
    },
    {
     "name": "stdout",
     "output_type": "stream",
     "text": [
      "[Test Result] F1: 0.2301\n",
      "\n",
      "Epoch 0, Step 4\n"
     ]
    },
    {
     "name": "stderr",
     "output_type": "stream",
     "text": [
      "Accuracy: 0.3300: 100%|██████████| 100/100 [00:14<00:00,  6.92it/s]\n"
     ]
    },
    {
     "name": "stdout",
     "output_type": "stream",
     "text": [
      "[Causal Validation] F1: 0.3313, Previous F1: 0.3178\n",
      "[Causal Validation CM]:\n",
      "[[ 4 16  2  1]\n",
      " [ 4 13  5  0]\n",
      " [ 2 13  6  3]\n",
      " [ 4 12  5 10]]\n"
     ]
    },
    {
     "name": "stderr",
     "output_type": "stream",
     "text": [
      "Accuracy: 0.2900: 100%|██████████| 100/100 [00:14<00:00,  6.87it/s]\n",
      "5it [16:13, 188.53s/it]"
     ]
    },
    {
     "name": "stdout",
     "output_type": "stream",
     "text": [
      "[Test Result] F1: 0.2515\n",
      "\n",
      "Epoch 0, Step 5\n"
     ]
    },
    {
     "name": "stderr",
     "output_type": "stream",
     "text": [
      "Accuracy: 0.2400: 100%|██████████| 100/100 [00:24<00:00,  4.09it/s]\n"
     ]
    },
    {
     "name": "stdout",
     "output_type": "stream",
     "text": [
      "Skip Test\n",
      "[System Validation] F1: 0.1619, Previous F1: 0.2340\n",
      "[System Validation CM]:\n",
      "[[ 0 11 12  0]\n",
      " [ 1  1 20  0]\n",
      " [ 0  4 20  0]\n",
      " [ 0  5 23  3]]\n"
     ]
    },
    {
     "name": "stderr",
     "output_type": "stream",
     "text": [
      "Accuracy: 0.2800: 100%|██████████| 100/100 [00:21<00:00,  4.61it/s]\n"
     ]
    },
    {
     "name": "stdout",
     "output_type": "stream",
     "text": [
      "Skip Test\n",
      "[System Validation] F1: 0.2539, Previous F1: 0.2844\n",
      "[System Validation CM]:\n",
      "[[ 6  8  8  0]\n",
      " [ 3  7 12  0]\n",
      " [ 4  6 13  0]\n",
      " [ 2  7 19  2]]\n"
     ]
    },
    {
     "name": "stderr",
     "output_type": "stream",
     "text": [
      "Accuracy: 0.2900: 100%|██████████| 100/100 [00:19<00:00,  5.25it/s]\n",
      "Accuracy: 0.2857:  68%|██████▊   | 68/100 [00:11<00:01, 23.10it/s]"
     ]
    },
    {
     "name": "stdout",
     "output_type": "stream",
     "text": [
      "Skip Test\n",
      "[Causal Validation] F1: 0.2136, Previous F1: 0.2340\n",
      "[Causal Validation CM]:\n",
      "[[ 1 17  5  0]\n",
      " [ 0 13  8  0]\n",
      " [ 0  9 14  1]\n",
      " [ 1  9 20  1]]\n",
      "Skip Test\n",
      "\n",
      "Epoch 0, Step 5\n"
     ]
    },
    {
     "name": "stderr",
     "output_type": "stream",
     "text": [
      "Accuracy: 0.2600: 100%|██████████| 100/100 [00:15<00:00,  6.40it/s]\n"
     ]
    },
    {
     "name": "stdout",
     "output_type": "stream",
     "text": [
      "Skip Test\n",
      "[System Validation] F1: 0.1923, Previous F1: 0.3313\n",
      "[System Validation CM]:\n",
      "[[ 3 18  2  0]\n",
      " [ 0 16  6  0]\n",
      " [ 3 14  7  0]\n",
      " [ 1 19 11  0]]\n"
     ]
    },
    {
     "name": "stderr",
     "output_type": "stream",
     "text": [
      "Accuracy: 0.2400: 100%|██████████| 100/100 [00:14<00:00,  7.04it/s]\n",
      "5it [19:16, 224.47s/it]"
     ]
    },
    {
     "name": "stdout",
     "output_type": "stream",
     "text": [
      "Skip Test\n",
      "[Causal Validation] F1: 0.1573, Previous F1: 0.2844\n",
      "[Causal Validation CM]:\n",
      "[[ 1  9 13  0]\n",
      " [ 3  5 14  0]\n",
      " [ 1  4 18  1]\n",
      " [ 1  2 28  0]]\n",
      "Skip Test\n",
      "\n",
      "Epoch 0, Step 5\n"
     ]
    },
    {
     "name": "stderr",
     "output_type": "stream",
     "text": [
      "Accuracy: 0.3200: 100%|██████████| 100/100 [00:12<00:00,  7.92it/s]\n",
      "6it [19:23, 189.05s/it]"
     ]
    },
    {
     "name": "stdout",
     "output_type": "stream",
     "text": [
      "Skip Test\n",
      "[Causal Validation] F1: 0.3112, Previous F1: 0.3313\n",
      "[Causal Validation CM]:\n",
      "[[ 2 17  4  0]\n",
      " [ 4 13  5  0]\n",
      " [ 2 10  8  4]\n",
      " [ 3 12  7  9]]\n",
      "Skip Test\n",
      "\n",
      "Epoch 0, Step 6\n"
     ]
    },
    {
     "name": "stderr",
     "output_type": "stream",
     "text": [
      "Accuracy: 0.2700: 100%|██████████| 100/100 [00:20<00:00,  4.83it/s]\n",
      "Accuracy: 0.3333:  63%|██████▎   | 63/100 [00:08<00:01, 23.34it/s]"
     ]
    },
    {
     "name": "stdout",
     "output_type": "stream",
     "text": [
      "[System Validation] F1: 0.2365, Previous F1: 0.2340\n",
      "[System Validation CM]:\n",
      "[[ 2  9 10  1]\n",
      " [ 0  7 12  1]\n",
      " [ 0  6 15  1]\n",
      " [ 2  1 25  3]]\n"
     ]
    },
    {
     "name": "stderr",
     "output_type": "stream",
     "text": [
      "Accuracy: 0.3300: 100%|██████████| 100/100 [00:11<00:00,  8.79it/s]\n"
     ]
    },
    {
     "name": "stdout",
     "output_type": "stream",
     "text": [
      "Skip Test\n",
      "[System Validation] F1: 0.2970, Previous F1: 0.3313\n",
      "[System Validation CM]:\n",
      "[[ 3 17  2  1]\n",
      " [ 2 17  2  1]\n",
      " [ 2 13  8  1]\n",
      " [ 2 15  9  5]]\n"
     ]
    },
    {
     "name": "stderr",
     "output_type": "stream",
     "text": [
      "Accuracy: 0.3000: 100%|██████████| 100/100 [00:16<00:00,  6.14it/s]\n"
     ]
    },
    {
     "name": "stdout",
     "output_type": "stream",
     "text": [
      "[Causal Validation] F1: 0.2783, Previous F1: 0.2365\n",
      "[Causal Validation CM]:\n",
      "[[ 1 11  8  1]\n",
      " [ 3  7 11  0]\n",
      " [ 1  4 15  4]\n",
      " [ 1  5 15  7]]\n"
     ]
    },
    {
     "name": "stderr",
     "output_type": "stream",
     "text": [
      "Accuracy: 0.3100: 100%|██████████| 100/100 [00:23<00:00,  4.27it/s]\n"
     ]
    },
    {
     "name": "stdout",
     "output_type": "stream",
     "text": [
      "[System Validation] F1: 0.3055, Previous F1: 0.2844\n",
      "[System Validation CM]:\n",
      "[[ 7  7  8  0]\n",
      " [ 2 10 10  0]\n",
      " [ 1 13 10  0]\n",
      " [ 2 12 13  4]]\n"
     ]
    },
    {
     "name": "stderr",
     "output_type": "stream",
     "text": [
      "Accuracy: 0.3100: 100%|██████████| 100/100 [00:13<00:00,  7.58it/s]\n",
      "Accuracy: 0.4255:  45%|████▌     | 45/100 [00:12<00:03, 17.05it/s]"
     ]
    },
    {
     "name": "stdout",
     "output_type": "stream",
     "text": [
      "Skip Test\n",
      "[Causal Validation] F1: 0.2777, Previous F1: 0.3313\n",
      "[Causal Validation CM]:\n",
      "[[ 1 20  2  0]\n",
      " [ 3 16  3  0]\n",
      " [ 3 10  7  4]\n",
      " [ 1 12 11  7]]\n",
      "Skip Test\n",
      "\n",
      "Epoch 0, Step 7\n"
     ]
    },
    {
     "name": "stderr",
     "output_type": "stream",
     "text": [
      "Accuracy: 0.3700: 100%|██████████| 100/100 [00:18<00:00,  5.43it/s]\n",
      "6it [22:38, 225.66s/it]"
     ]
    },
    {
     "name": "stdout",
     "output_type": "stream",
     "text": [
      "[Test Result] F1: 0.3402\n",
      "\n",
      "Epoch 0, Step 6\n"
     ]
    },
    {
     "name": "stderr",
     "output_type": "stream",
     "text": [
      "Accuracy: 0.3500: 100%|██████████| 100/100 [00:29<00:00,  3.34it/s]\n"
     ]
    },
    {
     "name": "stdout",
     "output_type": "stream",
     "text": [
      "Skip Test\n",
      "[Causal Validation] F1: 0.2961, Previous F1: 0.3055\n",
      "[Causal Validation CM]:\n",
      "[[ 0 10 13  0]\n",
      " [ 1 13  8  0]\n",
      " [ 1  4 16  3]\n",
      " [ 1  5 18  6]]\n"
     ]
    },
    {
     "name": "stderr",
     "output_type": "stream",
     "text": [
      "Accuracy: 0.3400: 100%|██████████| 100/100 [00:20<00:00,  4.98it/s]\n",
      "6it [23:37, 236.86s/it]"
     ]
    },
    {
     "name": "stdout",
     "output_type": "stream",
     "text": [
      "[Test Result] F1: 0.3141\n",
      "\n",
      "Epoch 0, Step 6\n"
     ]
    },
    {
     "name": "stderr",
     "output_type": "stream",
     "text": [
      "Accuracy: 0.2800: 100%|██████████| 100/100 [00:09<00:00, 10.66it/s]\n"
     ]
    },
    {
     "name": "stdout",
     "output_type": "stream",
     "text": [
      "Skip Test\n",
      "[System Validation] F1: 0.2679, Previous F1: 0.3313\n",
      "[System Validation CM]:\n",
      "[[ 3 15  3  1]\n",
      " [ 5 14  3  0]\n",
      " [ 4 16  2  2]\n",
      " [ 2 16  4  9]]\n"
     ]
    },
    {
     "name": "stderr",
     "output_type": "stream",
     "text": [
      "Accuracy: 0.3200: 100%|██████████| 100/100 [00:10<00:00,  9.50it/s]\n",
      "8it [25:19, 181.81s/it]"
     ]
    },
    {
     "name": "stdout",
     "output_type": "stream",
     "text": [
      "Skip Test\n",
      "[Causal Validation] F1: 0.2784, Previous F1: 0.3313\n",
      "[Causal Validation CM]:\n",
      "[[ 1 19  3  0]\n",
      " [ 0 16  6  0]\n",
      " [ 3  8  9  4]\n",
      " [ 0 14 11  6]]\n",
      "Skip Test\n",
      "\n",
      "Epoch 0, Step 8\n"
     ]
    },
    {
     "name": "stderr",
     "output_type": "stream",
     "text": [
      "Accuracy: 0.3000: 100%|██████████| 100/100 [00:19<00:00,  5.15it/s]\n"
     ]
    },
    {
     "name": "stdout",
     "output_type": "stream",
     "text": [
      "[System Validation] F1: 0.2855, Previous F1: 0.2783\n",
      "[System Validation CM]:\n",
      "[[ 1 12  8  0]\n",
      " [ 0  9 12  0]\n",
      " [ 1  6 13  2]\n",
      " [ 0  7 14  7]]\n"
     ]
    },
    {
     "name": "stderr",
     "output_type": "stream",
     "text": [
      "Accuracy: 0.3000: 100%|██████████| 100/100 [00:22<00:00,  4.48it/s]\n"
     ]
    },
    {
     "name": "stdout",
     "output_type": "stream",
     "text": [
      "Skip Test\n",
      "[Causal Validation] F1: 0.2598, Previous F1: 0.2855\n",
      "[Causal Validation CM]:\n",
      "[[ 1  8 13  1]\n",
      " [ 0  9 11  1]\n",
      " [ 0  5 16  1]\n",
      " [ 0  2 22  4]]\n"
     ]
    },
    {
     "name": "stderr",
     "output_type": "stream",
     "text": [
      "Accuracy: 0.3600: 100%|██████████| 100/100 [00:21<00:00,  4.75it/s]\n",
      "7it [26:31, 227.96s/it]"
     ]
    },
    {
     "name": "stdout",
     "output_type": "stream",
     "text": [
      "[Test Result] F1: 0.3077\n",
      "\n",
      "Epoch 0, Step 7\n"
     ]
    },
    {
     "name": "stderr",
     "output_type": "stream",
     "text": [
      "Accuracy: 0.3400: 100%|██████████| 100/100 [00:21<00:00,  4.60it/s]\n"
     ]
    },
    {
     "name": "stdout",
     "output_type": "stream",
     "text": [
      "[System Validation] F1: 0.3224, Previous F1: 0.3055\n",
      "[System Validation CM]:\n",
      "[[ 7  6 10  0]\n",
      " [ 3  9 10  0]\n",
      " [ 1  7 14  1]\n",
      " [ 4  6 17  4]]\n"
     ]
    },
    {
     "name": "stderr",
     "output_type": "stream",
     "text": [
      "Accuracy: 0.3200: 100%|██████████| 100/100 [00:19<00:00,  5.04it/s]\n"
     ]
    },
    {
     "name": "stdout",
     "output_type": "stream",
     "text": [
      "Skip Test\n",
      "[Causal Validation] F1: 0.2960, Previous F1: 0.3224\n",
      "[Causal Validation CM]:\n",
      "[[ 2 13  8  0]\n",
      " [ 2  9 11  0]\n",
      " [ 2  5 15  1]\n",
      " [ 2  3 20  6]]\n"
     ]
    },
    {
     "name": "stderr",
     "output_type": "stream",
     "text": [
      "Accuracy: 0.3400: 100%|██████████| 100/100 [00:16<00:00,  6.02it/s]\n",
      "Accuracy: 0.3535:  99%|█████████▉| 99/100 [00:21<00:00,  2.25it/s]"
     ]
    },
    {
     "name": "stdout",
     "output_type": "stream",
     "text": [
      "Skip Test\n",
      "[System Validation] F1: 0.3040, Previous F1: 0.3313\n",
      "[System Validation CM]:\n",
      "[[ 2 19  2  0]\n",
      " [ 2 19  0  1]\n",
      " [ 2 13  5  4]\n",
      " [ 3 16  4  8]]\n"
     ]
    },
    {
     "name": "stderr",
     "output_type": "stream",
     "text": [
      "Accuracy: 0.3500: 100%|██████████| 100/100 [00:23<00:00,  4.25it/s]\n",
      "7it [28:05, 247.10s/it]"
     ]
    },
    {
     "name": "stdout",
     "output_type": "stream",
     "text": [
      "[Test Result] F1: 0.3051\n",
      "\n",
      "Epoch 0, Step 7\n"
     ]
    },
    {
     "name": "stderr",
     "output_type": "stream",
     "text": [
      "Accuracy: 0.2800: 100%|██████████| 100/100 [00:11<00:00,  8.45it/s]\n",
      "9it [28:25, 183.24s/it]"
     ]
    },
    {
     "name": "stdout",
     "output_type": "stream",
     "text": [
      "Skip Test\n",
      "[Causal Validation] F1: 0.2607, Previous F1: 0.3313\n",
      "[Causal Validation CM]:\n",
      "[[ 1 18  4  0]\n",
      " [ 1 13  6  2]\n",
      " [ 2 13  4  5]\n",
      " [ 1 11  9 10]]\n",
      "Skip Test\n",
      "\n",
      "Epoch 0, Step 9\n"
     ]
    },
    {
     "name": "stderr",
     "output_type": "stream",
     "text": [
      "Accuracy: 0.3400: 100%|██████████| 100/100 [00:20<00:00,  4.88it/s]\n"
     ]
    },
    {
     "name": "stdout",
     "output_type": "stream",
     "text": [
      "[System Validation] F1: 0.3057, Previous F1: 0.2855\n",
      "[System Validation CM]:\n",
      "[[ 0 13  9  1]\n",
      " [ 1  9 12  0]\n",
      " [ 0  5 16  2]\n",
      " [ 1  3 16  9]]\n"
     ]
    },
    {
     "name": "stderr",
     "output_type": "stream",
     "text": [
      "Accuracy: 0.3300: 100%|██████████| 100/100 [00:12<00:00,  8.28it/s]\n"
     ]
    },
    {
     "name": "stdout",
     "output_type": "stream",
     "text": [
      "Skip Test\n",
      "[Causal Validation] F1: 0.2989, Previous F1: 0.3057\n",
      "[Causal Validation CM]:\n",
      "[[ 1  6 14  1]\n",
      " [ 0  9 11  1]\n",
      " [ 0  5 16  2]\n",
      " [ 0  4 20  7]]\n"
     ]
    },
    {
     "name": "stderr",
     "output_type": "stream",
     "text": [
      "Accuracy: 0.3500: 100%|██████████| 100/100 [00:09<00:00, 10.53it/s]\n"
     ]
    },
    {
     "name": "stdout",
     "output_type": "stream",
     "text": [
      "[System Validation] F1: 0.3437, Previous F1: 0.3313\n",
      "[System Validation CM]:\n",
      "[[ 2 15  6  0]\n",
      " [ 4 14  4  0]\n",
      " [ 3 10  9  2]\n",
      " [ 3 13  5 10]]\n"
     ]
    },
    {
     "name": "stderr",
     "output_type": "stream",
     "text": [
      "Accuracy: 0.3000: 100%|██████████| 100/100 [00:21<00:00,  4.57it/s]\n",
      "8it [30:24, 229.52s/it]"
     ]
    },
    {
     "name": "stdout",
     "output_type": "stream",
     "text": [
      "[Test Result] F1: 0.2905\n",
      "\n",
      "Epoch 0, Step 8\n"
     ]
    },
    {
     "name": "stderr",
     "output_type": "stream",
     "text": [
      "Accuracy: 0.3400: 100%|██████████| 100/100 [00:14<00:00,  6.98it/s]\n"
     ]
    },
    {
     "name": "stdout",
     "output_type": "stream",
     "text": [
      "Skip Test\n",
      "[Causal Validation] F1: 0.3164, Previous F1: 0.3437\n",
      "[Causal Validation CM]:\n",
      "[[ 2 16  5  0]\n",
      " [ 2 16  4  0]\n",
      " [ 3 10  8  3]\n",
      " [ 1 14  8  8]]\n"
     ]
    },
    {
     "name": "stderr",
     "output_type": "stream",
     "text": [
      "Accuracy: 0.3500: 100%|██████████| 100/100 [00:12<00:00,  7.94it/s]\n",
      "9it [31:02, 206.96s/it]\n"
     ]
    },
    {
     "name": "stdout",
     "output_type": "stream",
     "text": [
      "[Test Result] F1: 0.3291\n",
      "[Worker 0] [Iteration 1] val_best=0.3437, test_at_best=0.3291\n",
      "[Main] Worker 0 done. Best test_f1=0.3291\n"
     ]
    },
    {
     "name": "stderr",
     "output_type": "stream",
     "text": [
      "Accuracy: 0.3000: 100%|██████████| 100/100 [00:14<00:00,  6.82it/s]\n"
     ]
    },
    {
     "name": "stdout",
     "output_type": "stream",
     "text": [
      "Skip Test\n",
      "[System Validation] F1: 0.2621, Previous F1: 0.3224\n",
      "[System Validation CM]:\n",
      "[[ 3 11  9  0]\n",
      " [ 3 12  7  0]\n",
      " [ 2  8 12  2]\n",
      " [ 1 10 17  3]]\n"
     ]
    },
    {
     "name": "stderr",
     "output_type": "stream",
     "text": [
      "Accuracy: 0.3200: 100%|██████████| 100/100 [00:17<00:00,  5.64it/s]\n",
      "8it [32:09, 246.00s/it]"
     ]
    },
    {
     "name": "stdout",
     "output_type": "stream",
     "text": [
      "Skip Test\n",
      "[Causal Validation] F1: 0.2504, Previous F1: 0.3224\n",
      "[Causal Validation CM]:\n",
      "[[ 2 10 11  0]\n",
      " [ 0 12  9  0]\n",
      " [ 0  6 17  0]\n",
      " [ 1  3 24  1]]\n",
      "Skip Test\n",
      "\n",
      "Epoch 0, Step 8\n"
     ]
    },
    {
     "name": "stderr",
     "output_type": "stream",
     "text": [
      "Accuracy: 0.3200: 100%|██████████| 100/100 [00:16<00:00,  6.10it/s]\n"
     ]
    },
    {
     "name": "stdout",
     "output_type": "stream",
     "text": [
      "Skip Test\n",
      "[System Validation] F1: 0.2856, Previous F1: 0.3057\n",
      "[System Validation CM]:\n",
      "[[ 2  9 10  1]\n",
      " [ 0  9 11  2]\n",
      " [ 1  5 16  2]\n",
      " [ 0  7 17  5]]\n"
     ]
    },
    {
     "name": "stderr",
     "output_type": "stream",
     "text": [
      "Accuracy: 0.3000: 100%|██████████| 100/100 [00:23<00:00,  4.26it/s]\n",
      "9it [34:14, 229.87s/it]"
     ]
    },
    {
     "name": "stdout",
     "output_type": "stream",
     "text": [
      "Skip Test\n",
      "[Causal Validation] F1: 0.2643, Previous F1: 0.3057\n",
      "[Causal Validation CM]:\n",
      "[[ 1  8 13  0]\n",
      " [ 1  9 10  2]\n",
      " [ 0  5 15  3]\n",
      " [ 0  4 20  5]]\n",
      "Skip Test\n",
      "\n",
      "Epoch 0, Step 9\n"
     ]
    },
    {
     "name": "stderr",
     "output_type": "stream",
     "text": [
      "Accuracy: 0.2500: 100%|██████████| 100/100 [00:21<00:00,  4.63it/s]\n"
     ]
    },
    {
     "name": "stdout",
     "output_type": "stream",
     "text": [
      "Skip Test\n",
      "[System Validation] F1: 0.2288, Previous F1: 0.3224\n",
      "[System Validation CM]:\n",
      "[[ 3 12  7  0]\n",
      " [ 3  6 12  0]\n",
      " [ 3  5 13  1]\n",
      " [ 2  7 18  3]]\n"
     ]
    },
    {
     "name": "stderr",
     "output_type": "stream",
     "text": [
      "Accuracy: 0.2300: 100%|██████████| 100/100 [00:20<00:00,  4.94it/s]\n",
      "9it [36:20, 247.62s/it]"
     ]
    },
    {
     "name": "stdout",
     "output_type": "stream",
     "text": [
      "Skip Test\n",
      "[Causal Validation] F1: 0.2014, Previous F1: 0.3224\n",
      "[Causal Validation CM]:\n",
      "[[ 3 10  9  0]\n",
      " [ 4  6 12  0]\n",
      " [ 4  5 12  3]\n",
      " [ 3  6 19  2]]\n",
      "Skip Test\n",
      "\n",
      "Epoch 0, Step 9\n"
     ]
    },
    {
     "name": "stderr",
     "output_type": "stream",
     "text": [
      "Accuracy: 0.3700: 100%|██████████| 100/100 [00:15<00:00,  6.45it/s]\n"
     ]
    },
    {
     "name": "stdout",
     "output_type": "stream",
     "text": [
      "[System Validation] F1: 0.3640, Previous F1: 0.3057\n",
      "[System Validation CM]:\n",
      "[[ 2 14  6  0]\n",
      " [ 0 11  9  0]\n",
      " [ 1  7 14  1]\n",
      " [ 1  4 15 10]]\n"
     ]
    },
    {
     "name": "stderr",
     "output_type": "stream",
     "text": [
      "Accuracy: 0.3400: 100%|██████████| 100/100 [00:27<00:00,  3.66it/s]\n"
     ]
    },
    {
     "name": "stdout",
     "output_type": "stream",
     "text": [
      "Skip Test\n",
      "[Causal Validation] F1: 0.2996, Previous F1: 0.3640\n",
      "[Causal Validation CM]:\n",
      "[[ 0 10 10  1]\n",
      " [ 0 12  7  1]\n",
      " [ 0  6 15  2]\n",
      " [ 0  2 20  7]]\n"
     ]
    },
    {
     "name": "stderr",
     "output_type": "stream",
     "text": [
      "Accuracy: 0.3400: 100%|██████████| 100/100 [00:21<00:00,  4.73it/s]\n",
      "9it [38:20, 255.56s/it]\n"
     ]
    },
    {
     "name": "stdout",
     "output_type": "stream",
     "text": [
      "[Test Result] F1: 0.3126\n",
      "[Worker 2] [Iteration 1] val_best=0.3640, test_at_best=0.3126\n",
      "[Main] Worker 2 done. Best test_f1=0.3126\n"
     ]
    },
    {
     "name": "stderr",
     "output_type": "stream",
     "text": [
      "Accuracy: 0.3500: 100%|██████████| 100/100 [00:20<00:00,  4.93it/s]\n"
     ]
    },
    {
     "name": "stdout",
     "output_type": "stream",
     "text": [
      "Skip Test\n",
      "[System Validation] F1: 0.3059, Previous F1: 0.3224\n",
      "[System Validation CM]:\n",
      "[[ 4  8 10  0]\n",
      " [ 2 12  8  0]\n",
      " [ 1  7 16  0]\n",
      " [ 2  8 18  3]]\n"
     ]
    },
    {
     "name": "stderr",
     "output_type": "stream",
     "text": [
      "Accuracy: 0.2400: 100%|██████████| 100/100 [00:21<00:00,  4.72it/s]\n",
      "9it [40:22, 269.14s/it]"
     ]
    },
    {
     "name": "stdout",
     "output_type": "stream",
     "text": [
      "Skip Test\n",
      "[Causal Validation] F1: 0.2056, Previous F1: 0.3224\n",
      "[Causal Validation CM]:\n",
      "[[ 1  8 14  0]\n",
      " [ 3  4 15  0]\n",
      " [ 1  7 15  1]\n",
      " [ 4  7 16  4]]\n",
      "Skip Test\n",
      "[Worker 1] [Iteration 1] val_best=0.3224, test_at_best=0.3051\n",
      "[Main] Worker 1 done. Best test_f1=0.3051\n",
      "EGO_res (best test F1 per worker): [0.3291249143880723, 0.312577579697298, 0.30512086461513077]\n"
     ]
    },
    {
     "name": "stderr",
     "output_type": "stream",
     "text": [
      "\n"
     ]
    }
   ],
   "source": [
    "NUM_WORKERS = 3\n",
    "ITERS = 1\n",
    "total_steps=9\n",
    "epoch=1\n",
    "EGO_res = []\n",
    "\n",
    "\n",
    "with ThreadPoolExecutor(max_workers=NUM_WORKERS) as ex:\n",
    "    futures = [ex.submit(run_one_worker, i) for i in range(NUM_WORKERS)]\n",
    "    for fut in as_completed(futures):\n",
    "        res = fut.result()\n",
    "\n",
    "        EGO_res.append(res['best_test_f1'])\n",
    "\n",
    "        print(f\"[Main] Worker {res['worker_id']} done. Best test_f1={res['best_test_f1']:.4f}\")\n",
    "\n",
    "print(\"EGO_res (best test F1 per worker):\", EGO_res)"
   ]
  }
 ],
 "metadata": {
  "kernelspec": {
   "display_name": "Python 3 (ipykernel)",
   "language": "python",
   "name": "python3"
  },
  "language_info": {
   "codemirror_mode": {
    "name": "ipython",
    "version": 3
   },
   "file_extension": ".py",
   "mimetype": "text/x-python",
   "name": "python",
   "nbconvert_exporter": "python",
   "pygments_lexer": "ipython3",
   "version": "3.12.3"
  }
 },
 "nbformat": 4,
 "nbformat_minor": 4
}
